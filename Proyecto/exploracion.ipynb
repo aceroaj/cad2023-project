{
 "cells": [
  {
   "cell_type": "code",
   "execution_count": 5,
   "metadata": {},
   "outputs": [],
   "source": [
    "import pandas as pd\n",
    "import plotly.graph_objects as go\n",
    "import numpy as np\n",
    "from scipy.stats import linregress"
   ]
  },
  {
   "cell_type": "code",
   "execution_count": 33,
   "metadata": {},
   "outputs": [],
   "source": [
    "def read_excecution_time(df):\n",
    "    df = df.rename(columns={'Column1': 'N', 'Column2': 'CORES', 'Column3': 'TIEMPO_EJECUCION', 'Source.Name': 'EJECUCION'})\n",
    "    df['CORES'] = df['CORES'].str.replace(':','')\n",
    "    df['CORES'] = df['CORES'].astype(int)\n",
    "    df['TIEMPO_EJECUCION'] = pd.to_numeric(df['TIEMPO_EJECUCION'])  \n",
    "    return df \n",
    "\n",
    "# Lectura del archivo que contiene los tiempos de la ejecución de la multiplicación de matrices usando el algoritmo filas x columnas (maquina 1)\n",
    "FilasxColumnasM1 = pd.read_excel('FilasxColumnasL2.xlsx', sheet_name='cad2')\n",
    "FilasxColumnasM1 = read_excecution_time(FilasxColumnasM1)\n",
    "\n",
    "# Lectura del archivo que contiene los tiempos de la ejecución de la multiplicación de matrices usando el algoritmo filas x columnas (maquina 2)\n",
    "FilasxColumnasM2 = pd.read_excel('FilasxColumnasL2M2.xlsx', sheet_name='cad2 (2)')\n",
    "FilasxColumnasM2 = read_excecution_time(FilasxColumnasM2)\n",
    "\n",
    "# Lectura del archivo que contiene los tiempos de la ejecución de la multiplicación de matrices usando el algoritmo filas x columnas (maquina 3)\n",
    "FilasxColumnasM3 = pd.read_excel('FilasxColumnasL2M3.xlsx', sheet_name='cad2 (2)')\n",
    "FilasxColumnasM3 = read_excecution_time(FilasxColumnasM3)\n",
    "\n",
    "# Lectura del archivo que contiene los tiempos de la ejecución de la multiplicación de matrices usando el algoritmo filas x filas (maquina 1)\n",
    "FilasxFilasM1 = pd.read_excel('FilasxFilasL2.xlsx', sheet_name='cad6 (2)')\n",
    "FilasxFilasM1 = read_excecution_time(FilasxFilasM1)\n",
    "\n",
    "# Lectura del archivo que contiene los tiempos de la ejecución de la multiplicación de matrices usando el algoritmo filas x filas (maquina 2)\n",
    "FilasxFilasM2 = pd.read_excel('FilasxFilasL2M2.xlsx', sheet_name='cad6 (2)')\n",
    "FilasxFilasM2 = read_excecution_time(FilasxFilasM2)\n",
    "\n",
    "# Lectura del archivo que contiene los tiempos de la ejecución de la multiplicación de matrices usando el algoritmo filas x filas (maquina 3)\n",
    "FilasxFilasM3 = pd.read_excel('FilasxFilasL2M3.xlsx', sheet_name='cad6 (2)')\n",
    "FilasxFilasM3 = read_excecution_time(FilasxFilasM3)"
   ]
  },
  {
   "cell_type": "markdown",
   "metadata": {},
   "source": [
    "A continuación, calculamos los tiempos promedio por cada combinación de los parámetros ```N``` y ```CORES```. Esto lo haremos agrupando por cada combinación."
   ]
  },
  {
   "cell_type": "code",
   "execution_count": 34,
   "metadata": {},
   "outputs": [],
   "source": [
    "FilasxColumnasM1_promedio = FilasxColumnasM1.groupby(['N', 'CORES'], as_index=False)['TIEMPO_EJECUCION'].mean()\n",
    "FilasxColumnasM2_promedio = FilasxColumnasM2.groupby(['N', 'CORES'], as_index=False)['TIEMPO_EJECUCION'].mean()\n",
    "FilasxColumnasM3_promedio = FilasxColumnasM3.groupby(['N', 'CORES'], as_index=False)['TIEMPO_EJECUCION'].mean()\n",
    "FilasxFilasM1_promedio = FilasxFilasM1.groupby(['N', 'CORES'], as_index=False)['TIEMPO_EJECUCION'].mean()\n",
    "FilasxFilasM2_promedio = FilasxFilasM2.groupby(['N', 'CORES'], as_index=False)['TIEMPO_EJECUCION'].mean()\n",
    "FilasxFilasM3_promedio = FilasxFilasM3.groupby(['N', 'CORES'], as_index=False)['TIEMPO_EJECUCION'].mean()"
   ]
  },
  {
   "cell_type": "markdown",
   "metadata": {},
   "source": [
    "Ajustamos los campos ```CORES``` y ```TIEMPO_EJECUCION```, de modo que la cantidad de cores quede como un valor mayor a 1 y el tiempo de ejecución esté expresado en segundos."
   ]
  },
  {
   "cell_type": "code",
   "execution_count": 35,
   "metadata": {},
   "outputs": [],
   "source": [
    "def ajustar_numero_cores(cantidad_cores):\n",
    "    return cantidad_cores + 1\n",
    "\n",
    "def milisegundos_a_segundos(milisegundos):\n",
    "    segundos = milisegundos / 1000\n",
    "    return segundos\n",
    "\n",
    "FilasxColumnasM1_promedio['CORES'] = FilasxColumnasM1_promedio['CORES'].apply(ajustar_numero_cores)\n",
    "FilasxColumnasM1_promedio['TIEMPO_EJECUCION'] = FilasxColumnasM1_promedio['TIEMPO_EJECUCION'].apply(milisegundos_a_segundos)\n",
    "FilasxColumnasM2_promedio['CORES'] = FilasxColumnasM2_promedio['CORES'].apply(ajustar_numero_cores)\n",
    "FilasxColumnasM2_promedio['TIEMPO_EJECUCION'] = FilasxColumnasM2_promedio['TIEMPO_EJECUCION'].apply(milisegundos_a_segundos)\n",
    "FilasxColumnasM3_promedio['CORES'] = FilasxColumnasM3_promedio['CORES'].apply(ajustar_numero_cores)\n",
    "FilasxColumnasM3_promedio['TIEMPO_EJECUCION'] = FilasxColumnasM3_promedio['TIEMPO_EJECUCION'].apply(milisegundos_a_segundos)\n",
    "FilasxFilasM1_promedio['CORES'] = FilasxFilasM1_promedio['CORES'].apply(ajustar_numero_cores)\n",
    "FilasxFilasM1_promedio['TIEMPO_EJECUCION'] = FilasxFilasM1_promedio['TIEMPO_EJECUCION'].apply(milisegundos_a_segundos)\n",
    "FilasxFilasM2_promedio['CORES'] = FilasxFilasM2_promedio['CORES'].apply(ajustar_numero_cores)\n",
    "FilasxFilasM2_promedio['TIEMPO_EJECUCION'] = FilasxFilasM2_promedio['TIEMPO_EJECUCION'].apply(milisegundos_a_segundos)\n",
    "FilasxFilasM3_promedio['CORES'] = FilasxFilasM3_promedio['CORES'].apply(ajustar_numero_cores)\n",
    "FilasxFilasM3_promedio['TIEMPO_EJECUCION'] = FilasxFilasM3_promedio['TIEMPO_EJECUCION'].apply(milisegundos_a_segundos)"
   ]
  },
  {
   "cell_type": "markdown",
   "metadata": {},
   "source": [
    "Con lo anterior, podemos calcular las medidas de eficiencia escogidas previamente para el experimento, es decir, el **Speed Up** y la **eficiencia**. Que recordemos, se calculan de la siguiente manera:\n",
    "\n",
    "$$\n",
    "Speedup = \\frac{T_{1}}{T_{n}},\n",
    "$$\n",
    "\n",
    "donde $T_{1}$ es el tiempo de ejecución con un solo procesador y $T_{n}$ es el tiempo de ejecución utilizando n procesadores; y\n",
    "\n",
    "$$\n",
    "Eficiencia = \\frac{Speedup}{\\# CORES}\n",
    "$$"
   ]
  },
  {
   "cell_type": "code",
   "execution_count": 36,
   "metadata": {},
   "outputs": [],
   "source": [
    "def calculate_speedup_and_efficiency(df):\n",
    "    secuencial_time = df.groupby('N')['TIEMPO_EJECUCION'].min()\n",
    "\n",
    "    speed_up_values = []\n",
    "    efficiency_values = []\n",
    "\n",
    "    for n_value in df['N'].unique():\n",
    "        secuencial_time = df[df['N'] == n_value]['TIEMPO_EJECUCION'].min()\n",
    "        for index, row in df.iterrows():\n",
    "            if row['N'] == n_value:\n",
    "                speed_up = secuencial_time / row['TIEMPO_EJECUCION']\n",
    "                efficiency = speed_up / row['CORES']\n",
    "                speed_up_values.append(speed_up)\n",
    "                efficiency_values.append(efficiency)\n",
    "    \n",
    "    df['SPEED_UP'] = speed_up_values\n",
    "    df['EFICIENCIA'] = efficiency_values\n",
    "    return df\n",
    "\n",
    "FilasxColumnasM1_promedio = calculate_speedup_and_efficiency(FilasxColumnasM1_promedio)\n",
    "FilasxColumnasM2_promedio = calculate_speedup_and_efficiency(FilasxColumnasM2_promedio)\n",
    "FilasxColumnasM3_promedio = calculate_speedup_and_efficiency(FilasxColumnasM3_promedio)\n",
    "FilasxFilasM1_promedio = calculate_speedup_and_efficiency(FilasxFilasM1_promedio)\n",
    "FilasxFilasM2_promedio = calculate_speedup_and_efficiency(FilasxFilasM2_promedio)\n",
    "FilasxFilasM3_promedio = calculate_speedup_and_efficiency(FilasxFilasM3_promedio)"
   ]
  },
  {
   "cell_type": "code",
   "execution_count": 37,
   "metadata": {},
   "outputs": [],
   "source": [
    "def graph_speedup(df):\n",
    "    fig = go.Figure()\n",
    "    for n_value in df['N'].unique():\n",
    "        fig.add_trace(go.Scatter(x=df[df['N'] == n_value]['CORES'], y=df[df['N'] == n_value]['SPEED_UP'], \n",
    "                                 mode='lines+markers', name=f'N={n_value}'))\n",
    "    \n",
    "    fig.update_layout(title='Gráfico de Speed Up para diferentes valores de N',\n",
    "                      xaxis_title='Cantidad de cores',\n",
    "                      yaxis_title='Speed Up')\n",
    "    \n",
    "    fig.show()"
   ]
  },
  {
   "cell_type": "code",
   "execution_count": 38,
   "metadata": {},
   "outputs": [],
   "source": [
    "from plotly.subplots import make_subplots"
   ]
  },
  {
   "cell_type": "code",
   "execution_count": 39,
   "metadata": {},
   "outputs": [],
   "source": [
    "colors = ['blue', 'red', 'green', 'orange', 'purple', 'brown', 'pink', 'gray', 'olive', 'cyan']"
   ]
  },
  {
   "cell_type": "code",
   "execution_count": 68,
   "metadata": {},
   "outputs": [
    {
     "data": {
      "application/vnd.plotly.v1+json": {
       "config": {
        "plotlyServerURL": "https://plot.ly"
       },
       "data": [
        {
         "legendgroup": "N=100",
         "line": {
          "color": "blue"
         },
         "mode": "lines+markers",
         "name": "N=100",
         "showlegend": true,
         "type": "scatter",
         "x": [
          1,
          2,
          3,
          4,
          5,
          6,
          7,
          8
         ],
         "xaxis": "x",
         "y": [
          0.18994953569002035,
          0.3357659659726779,
          1,
          0.274548317177654,
          0.6137656928873381,
          0.3382122012033477,
          0.5417475246743705,
          0.3988404585067336
         ],
         "yaxis": "y"
        },
        {
         "legendgroup": "N=100",
         "line": {
          "color": "blue"
         },
         "mode": "lines+markers",
         "name": "N=100",
         "showlegend": true,
         "type": "scatter",
         "x": [
          1,
          2,
          3,
          4,
          5,
          6,
          7,
          8
         ],
         "xaxis": "x2",
         "y": [
          0.017594942918991132,
          0.029482746283286204,
          1,
          0.025199976591111395,
          0.08108935166429415,
          0.03554145163252185,
          0.06594447332680457,
          0.0525551712065881
         ],
         "yaxis": "y2"
        },
        {
         "legendgroup": "N=100",
         "line": {
          "color": "blue"
         },
         "mode": "lines+markers",
         "name": "N=100",
         "showlegend": true,
         "type": "scatter",
         "x": [
          1,
          2,
          3,
          4,
          5,
          6,
          7,
          8
         ],
         "xaxis": "x3",
         "y": [
          0.33694003913892756,
          0.5959997598227846,
          1,
          0.5010902546836838,
          0.7039196137274353,
          0.6445474208280073,
          0.9356751562174777,
          0.9978511077421517
         ],
         "yaxis": "y3"
        },
        {
         "legendgroup": "N=100",
         "line": {
          "color": "blue"
         },
         "mode": "lines+markers",
         "name": "N=100",
         "showlegend": true,
         "type": "scatter",
         "x": [
          1,
          2,
          3,
          4,
          5,
          6,
          7,
          8
         ],
         "xaxis": "x4",
         "y": [
          0.03022686369894935,
          0.050139130772338995,
          1,
          0.04299925700286152,
          0.133799965155646,
          0.060262720904635365,
          0.10944276261564177,
          0.0883154623154623
         ],
         "yaxis": "y4"
        },
        {
         "legendgroup": "N=100",
         "line": {
          "color": "blue"
         },
         "mode": "lines+markers",
         "name": "N=100",
         "showlegend": true,
         "type": "scatter",
         "x": [
          1,
          2,
          3,
          4,
          5,
          6,
          7,
          8
         ],
         "xaxis": "x5",
         "y": [
          0.349663736544893,
          0.6089070086744621,
          0.9923863407971543,
          0.5207275884310882,
          0.721388427415079,
          0.6667470096440614,
          0.9433087850121716,
          1
         ],
         "yaxis": "y5"
        },
        {
         "legendgroup": "N=100",
         "line": {
          "color": "blue"
         },
         "mode": "lines+markers",
         "name": "N=100",
         "showlegend": true,
         "type": "scatter",
         "x": [
          1,
          2,
          3,
          4,
          5,
          6,
          7,
          8
         ],
         "xaxis": "x6",
         "y": [
          0.03022686369894935,
          0.050139130772338995,
          1,
          0.04299925700286152,
          0.133799965155646,
          0.060262720904635365,
          0.10944276261564177,
          0.0883154623154623
         ],
         "yaxis": "y6"
        },
        {
         "legendgroup": "N=200",
         "line": {
          "color": "red"
         },
         "mode": "lines+markers",
         "name": "N=200",
         "showlegend": true,
         "type": "scatter",
         "x": [
          1,
          2,
          3,
          4,
          5,
          6,
          7,
          8
         ],
         "xaxis": "x",
         "y": [
          0.5554045894825559,
          0.6056544509149326,
          0.672452537485912,
          0.6516327699799485,
          0.7450043753471459,
          0.9184874029501922,
          1,
          0.9554216368200799
         ],
         "yaxis": "y"
        },
        {
         "legendgroup": "N=200",
         "line": {
          "color": "red"
         },
         "mode": "lines+markers",
         "name": "N=200",
         "showlegend": true,
         "type": "scatter",
         "x": [
          1,
          2,
          3,
          4,
          5,
          6,
          7,
          8
         ],
         "xaxis": "x2",
         "y": [
          1,
          0.935649999454234,
          0.8921045725263973,
          0.8083298777494757,
          0.7681186903420291,
          0.6928751521059647,
          0.6337414326638131,
          0.6966068703210891
         ],
         "yaxis": "y2"
        },
        {
         "legendgroup": "N=200",
         "line": {
          "color": "red"
         },
         "mode": "lines+markers",
         "name": "N=200",
         "showlegend": true,
         "type": "scatter",
         "x": [
          1,
          2,
          3,
          4,
          5,
          6,
          7,
          8
         ],
         "xaxis": "x3",
         "y": [
          0.7935106632593193,
          0.8755101795482019,
          1,
          0.8162567842476022,
          0.8274737988996808,
          0.7654516212246935,
          0.851118410686182,
          0.8462788791677363
         ],
         "yaxis": "y3"
        },
        {
         "legendgroup": "N=200",
         "line": {
          "color": "red"
         },
         "mode": "lines+markers",
         "name": "N=200",
         "showlegend": true,
         "type": "scatter",
         "x": [
          1,
          2,
          3,
          4,
          5,
          6,
          7,
          8
         ],
         "xaxis": "x4",
         "y": [
          1,
          0.9356390581082412,
          0.8921878149711244,
          0.808616153727777,
          0.7687899609977112,
          0.6935687862459299,
          0.6343925632083115,
          0.697229275533783
         ],
         "yaxis": "y4"
        },
        {
         "legendgroup": "N=200",
         "line": {
          "color": "red"
         },
         "mode": "lines+markers",
         "name": "N=200",
         "showlegend": true,
         "type": "scatter",
         "x": [
          1,
          2,
          3,
          4,
          5,
          6,
          7,
          8
         ],
         "xaxis": "x5",
         "y": [
          0.7904380702570075,
          0.8756177489890853,
          1,
          0.8207754688393245,
          0.8324301453963744,
          0.771195714688285,
          0.8560512077649347,
          0.8490729113466032
         ],
         "yaxis": "y5"
        },
        {
         "legendgroup": "N=200",
         "line": {
          "color": "red"
         },
         "mode": "lines+markers",
         "name": "N=200",
         "showlegend": true,
         "type": "scatter",
         "x": [
          1,
          2,
          3,
          4,
          5,
          6,
          7,
          8
         ],
         "xaxis": "x6",
         "y": [
          1,
          0.9356390581082412,
          0.8921878149711244,
          0.808616153727777,
          0.7687899609977112,
          0.6935687862459299,
          0.6343925632083115,
          0.697229275533783
         ],
         "yaxis": "y6"
        },
        {
         "legendgroup": "N=300",
         "line": {
          "color": "green"
         },
         "mode": "lines+markers",
         "name": "N=300",
         "showlegend": true,
         "type": "scatter",
         "x": [
          1,
          2,
          3,
          4,
          5,
          6,
          7,
          8
         ],
         "xaxis": "x",
         "y": [
          0.7173540505156302,
          0.7807318994483985,
          0.7846743336480565,
          0.7243470298453613,
          0.7611247715045647,
          0.7833016993528904,
          0.8457951177596426,
          1
         ],
         "yaxis": "y"
        },
        {
         "legendgroup": "N=300",
         "line": {
          "color": "green"
         },
         "mode": "lines+markers",
         "name": "N=300",
         "showlegend": true,
         "type": "scatter",
         "x": [
          1,
          2,
          3,
          4,
          5,
          6,
          7,
          8
         ],
         "xaxis": "x2",
         "y": [
          1,
          0.9209782074461498,
          0.8575524393192148,
          0.7742106626472851,
          0.7340269375111657,
          0.6738533069033562,
          0.6268786440944228,
          0.5648042494969884
         ],
         "yaxis": "y2"
        },
        {
         "legendgroup": "N=300",
         "line": {
          "color": "green"
         },
         "mode": "lines+markers",
         "name": "N=300",
         "showlegend": true,
         "type": "scatter",
         "x": [
          1,
          2,
          3,
          4,
          5,
          6,
          7,
          8
         ],
         "xaxis": "x3",
         "y": [
          0.8797576207010559,
          0.9762195471512728,
          1,
          0.949317072084282,
          0.9537386027679178,
          0.8863109022205723,
          0.8603192638429773,
          0.8572920707582183
         ],
         "yaxis": "y3"
        },
        {
         "legendgroup": "N=300",
         "line": {
          "color": "green"
         },
         "mode": "lines+markers",
         "name": "N=300",
         "showlegend": true,
         "type": "scatter",
         "x": [
          1,
          2,
          3,
          4,
          5,
          6,
          7,
          8
         ],
         "xaxis": "x4",
         "y": [
          1,
          0.9210525201364302,
          0.8577100795607302,
          0.7745635648685868,
          0.7345527181136365,
          0.6744126978477306,
          0.6274163201224289,
          0.565308211834276
         ],
         "yaxis": "y4"
        },
        {
         "legendgroup": "N=300",
         "line": {
          "color": "green"
         },
         "mode": "lines+markers",
         "name": "N=300",
         "showlegend": true,
         "type": "scatter",
         "x": [
          1,
          2,
          3,
          4,
          5,
          6,
          7,
          8
         ],
         "xaxis": "x5",
         "y": [
          0.8737037498546723,
          0.9736979393280797,
          1,
          0.9522526969329332,
          0.9575735668095087,
          0.8914277301418853,
          0.8650559314259262,
          0.8603501629810483
         ],
         "yaxis": "y5"
        },
        {
         "legendgroup": "N=300",
         "line": {
          "color": "green"
         },
         "mode": "lines+markers",
         "name": "N=300",
         "showlegend": true,
         "type": "scatter",
         "x": [
          1,
          2,
          3,
          4,
          5,
          6,
          7,
          8
         ],
         "xaxis": "x6",
         "y": [
          1,
          0.9210525201364302,
          0.8577100795607302,
          0.7745635648685868,
          0.7345527181136365,
          0.6744126978477306,
          0.6274163201224289,
          0.565308211834276
         ],
         "yaxis": "y6"
        },
        {
         "legendgroup": "N=400",
         "line": {
          "color": "orange"
         },
         "mode": "lines+markers",
         "name": "N=400",
         "showlegend": true,
         "type": "scatter",
         "x": [
          1,
          2,
          3,
          4,
          5,
          6,
          7,
          8
         ],
         "xaxis": "x",
         "y": [
          0.8410651334659778,
          0.9140979229756777,
          1,
          0.9516356891435022,
          0.9364656918223444,
          0.8833619731257598,
          0.9063609304869458,
          0.8726634416909764
         ],
         "yaxis": "y"
        },
        {
         "legendgroup": "N=400",
         "line": {
          "color": "orange"
         },
         "mode": "lines+markers",
         "name": "N=400",
         "showlegend": true,
         "type": "scatter",
         "x": [
          1,
          2,
          3,
          4,
          5,
          6,
          7,
          8
         ],
         "xaxis": "x2",
         "y": [
          1,
          0.9141833787452714,
          0.839233151312747,
          0.7640281514293701,
          0.7065653381898117,
          0.6537763033564868,
          0.6087877559203481,
          0.5642394661603689
         ],
         "yaxis": "y2"
        },
        {
         "legendgroup": "N=400",
         "line": {
          "color": "orange"
         },
         "mode": "lines+markers",
         "name": "N=400",
         "showlegend": true,
         "type": "scatter",
         "x": [
          1,
          2,
          3,
          4,
          5,
          6,
          7,
          8
         ],
         "xaxis": "x3",
         "y": [
          0.83018548837253,
          0.9076589547228348,
          0.9101502892195555,
          0.9058887545046675,
          0.9589622757983287,
          1,
          0.9741694357247127,
          0.8865380016653263
         ],
         "yaxis": "y3"
        },
        {
         "legendgroup": "N=400",
         "line": {
          "color": "orange"
         },
         "mode": "lines+markers",
         "name": "N=400",
         "showlegend": true,
         "type": "scatter",
         "x": [
          1,
          2,
          3,
          4,
          5,
          6,
          7,
          8
         ],
         "xaxis": "x4",
         "y": [
          1,
          0.9142278644269025,
          0.8393035376322425,
          0.7642131247369027,
          0.7069037698298702,
          0.6541405149778208,
          0.6091284166970682,
          0.5645591941359306
         ],
         "yaxis": "y4"
        },
        {
         "legendgroup": "N=400",
         "line": {
          "color": "orange"
         },
         "mode": "lines+markers",
         "name": "N=400",
         "showlegend": true,
         "type": "scatter",
         "x": [
          1,
          2,
          3,
          4,
          5,
          6,
          7,
          8
         ],
         "xaxis": "x5",
         "y": [
          0.818387843125653,
          0.9005192176516644,
          0.9069406064882423,
          0.9051582017913318,
          0.9587330735518083,
          1,
          0.9752610550173827,
          0.8891824383706298
         ],
         "yaxis": "y5"
        },
        {
         "legendgroup": "N=400",
         "line": {
          "color": "orange"
         },
         "mode": "lines+markers",
         "name": "N=400",
         "showlegend": true,
         "type": "scatter",
         "x": [
          1,
          2,
          3,
          4,
          5,
          6,
          7,
          8
         ],
         "xaxis": "x6",
         "y": [
          1,
          0.9142278644269025,
          0.8393035376322425,
          0.7642131247369027,
          0.7069037698298702,
          0.6541405149778208,
          0.6091284166970682,
          0.5645591941359306
         ],
         "yaxis": "y6"
        },
        {
         "legendgroup": "N=500",
         "line": {
          "color": "purple"
         },
         "mode": "lines+markers",
         "name": "N=500",
         "showlegend": true,
         "type": "scatter",
         "x": [
          1,
          2,
          3,
          4,
          5,
          6,
          7,
          8
         ],
         "xaxis": "x",
         "y": [
          0.9004615108873599,
          0.9465234268292925,
          1,
          0.9644291732285262,
          0.9578960364952096,
          0.9638385070480523,
          0.9835985548743769,
          0.9571857992042424
         ],
         "yaxis": "y"
        },
        {
         "legendgroup": "N=500",
         "line": {
          "color": "purple"
         },
         "mode": "lines+markers",
         "name": "N=500",
         "showlegend": true,
         "type": "scatter",
         "x": [
          1,
          2,
          3,
          4,
          5,
          6,
          7,
          8
         ],
         "xaxis": "x2",
         "y": [
          1,
          0.9161829430834952,
          0.8405897725958632,
          0.7685207230464268,
          0.7090431334609163,
          0.6537023310232388,
          0.603578395368945,
          0.564145005397434
         ],
         "yaxis": "y2"
        },
        {
         "legendgroup": "N=500",
         "line": {
          "color": "purple"
         },
         "mode": "lines+markers",
         "name": "N=500",
         "showlegend": true,
         "type": "scatter",
         "x": [
          1,
          2,
          3,
          4,
          5,
          6,
          7,
          8
         ],
         "xaxis": "x3",
         "y": [
          0.8966734225281539,
          0.9555862111608887,
          0.96647505259018,
          0.9655690137946578,
          1,
          0.963678559718532,
          0.9566424977707824,
          0.9508723670977793
         ],
         "yaxis": "y3"
        },
        {
         "legendgroup": "N=500",
         "line": {
          "color": "purple"
         },
         "mode": "lines+markers",
         "name": "N=500",
         "showlegend": true,
         "type": "scatter",
         "x": [
          1,
          2,
          3,
          4,
          5,
          6,
          7,
          8
         ],
         "xaxis": "x4",
         "y": [
          1,
          0.9163328686415798,
          0.8408406014393983,
          0.7689095278112741,
          0.7096764093801962,
          0.6544196056781795,
          0.6042837778637911,
          0.5647687831939339
         ],
         "yaxis": "y4"
        },
        {
         "legendgroup": "N=500",
         "line": {
          "color": "purple"
         },
         "mode": "lines+markers",
         "name": "N=500",
         "showlegend": true,
         "type": "scatter",
         "x": [
          1,
          2,
          3,
          4,
          5,
          6,
          7,
          8
         ],
         "xaxis": "x5",
         "y": [
          0.8795620800101247,
          0.9464657345925868,
          0.9621131489972311,
          0.964471672546966,
          1,
          0.9673540024898627,
          0.9616235259286259,
          0.9567208008152231
         ],
         "yaxis": "y5"
        },
        {
         "legendgroup": "N=500",
         "line": {
          "color": "purple"
         },
         "mode": "lines+markers",
         "name": "N=500",
         "showlegend": true,
         "type": "scatter",
         "x": [
          1,
          2,
          3,
          4,
          5,
          6,
          7,
          8
         ],
         "xaxis": "x6",
         "y": [
          1,
          0.9163328686415798,
          0.8408406014393983,
          0.7689095278112741,
          0.7096764093801962,
          0.6544196056781795,
          0.6042837778637911,
          0.5647687831939339
         ],
         "yaxis": "y6"
        }
       ],
       "layout": {
        "annotations": [
         {
          "font": {
           "size": 20
          },
          "showarrow": false,
          "text": "Filas x Columnas",
          "x": 0.18,
          "xref": "paper",
          "y": 1.1,
          "yref": "paper"
         },
         {
          "font": {
           "size": 20
          },
          "showarrow": false,
          "text": "Filas x Filas",
          "x": 0.825,
          "xref": "paper",
          "y": 1.1,
          "yref": "paper"
         }
        ],
        "height": 800,
        "template": {
         "data": {
          "bar": [
           {
            "error_x": {
             "color": "#2a3f5f"
            },
            "error_y": {
             "color": "#2a3f5f"
            },
            "marker": {
             "line": {
              "color": "#E5ECF6",
              "width": 0.5
             },
             "pattern": {
              "fillmode": "overlay",
              "size": 10,
              "solidity": 0.2
             }
            },
            "type": "bar"
           }
          ],
          "barpolar": [
           {
            "marker": {
             "line": {
              "color": "#E5ECF6",
              "width": 0.5
             },
             "pattern": {
              "fillmode": "overlay",
              "size": 10,
              "solidity": 0.2
             }
            },
            "type": "barpolar"
           }
          ],
          "carpet": [
           {
            "aaxis": {
             "endlinecolor": "#2a3f5f",
             "gridcolor": "white",
             "linecolor": "white",
             "minorgridcolor": "white",
             "startlinecolor": "#2a3f5f"
            },
            "baxis": {
             "endlinecolor": "#2a3f5f",
             "gridcolor": "white",
             "linecolor": "white",
             "minorgridcolor": "white",
             "startlinecolor": "#2a3f5f"
            },
            "type": "carpet"
           }
          ],
          "choropleth": [
           {
            "colorbar": {
             "outlinewidth": 0,
             "ticks": ""
            },
            "type": "choropleth"
           }
          ],
          "contour": [
           {
            "colorbar": {
             "outlinewidth": 0,
             "ticks": ""
            },
            "colorscale": [
             [
              0,
              "#0d0887"
             ],
             [
              0.1111111111111111,
              "#46039f"
             ],
             [
              0.2222222222222222,
              "#7201a8"
             ],
             [
              0.3333333333333333,
              "#9c179e"
             ],
             [
              0.4444444444444444,
              "#bd3786"
             ],
             [
              0.5555555555555556,
              "#d8576b"
             ],
             [
              0.6666666666666666,
              "#ed7953"
             ],
             [
              0.7777777777777778,
              "#fb9f3a"
             ],
             [
              0.8888888888888888,
              "#fdca26"
             ],
             [
              1,
              "#f0f921"
             ]
            ],
            "type": "contour"
           }
          ],
          "contourcarpet": [
           {
            "colorbar": {
             "outlinewidth": 0,
             "ticks": ""
            },
            "type": "contourcarpet"
           }
          ],
          "heatmap": [
           {
            "colorbar": {
             "outlinewidth": 0,
             "ticks": ""
            },
            "colorscale": [
             [
              0,
              "#0d0887"
             ],
             [
              0.1111111111111111,
              "#46039f"
             ],
             [
              0.2222222222222222,
              "#7201a8"
             ],
             [
              0.3333333333333333,
              "#9c179e"
             ],
             [
              0.4444444444444444,
              "#bd3786"
             ],
             [
              0.5555555555555556,
              "#d8576b"
             ],
             [
              0.6666666666666666,
              "#ed7953"
             ],
             [
              0.7777777777777778,
              "#fb9f3a"
             ],
             [
              0.8888888888888888,
              "#fdca26"
             ],
             [
              1,
              "#f0f921"
             ]
            ],
            "type": "heatmap"
           }
          ],
          "heatmapgl": [
           {
            "colorbar": {
             "outlinewidth": 0,
             "ticks": ""
            },
            "colorscale": [
             [
              0,
              "#0d0887"
             ],
             [
              0.1111111111111111,
              "#46039f"
             ],
             [
              0.2222222222222222,
              "#7201a8"
             ],
             [
              0.3333333333333333,
              "#9c179e"
             ],
             [
              0.4444444444444444,
              "#bd3786"
             ],
             [
              0.5555555555555556,
              "#d8576b"
             ],
             [
              0.6666666666666666,
              "#ed7953"
             ],
             [
              0.7777777777777778,
              "#fb9f3a"
             ],
             [
              0.8888888888888888,
              "#fdca26"
             ],
             [
              1,
              "#f0f921"
             ]
            ],
            "type": "heatmapgl"
           }
          ],
          "histogram": [
           {
            "marker": {
             "pattern": {
              "fillmode": "overlay",
              "size": 10,
              "solidity": 0.2
             }
            },
            "type": "histogram"
           }
          ],
          "histogram2d": [
           {
            "colorbar": {
             "outlinewidth": 0,
             "ticks": ""
            },
            "colorscale": [
             [
              0,
              "#0d0887"
             ],
             [
              0.1111111111111111,
              "#46039f"
             ],
             [
              0.2222222222222222,
              "#7201a8"
             ],
             [
              0.3333333333333333,
              "#9c179e"
             ],
             [
              0.4444444444444444,
              "#bd3786"
             ],
             [
              0.5555555555555556,
              "#d8576b"
             ],
             [
              0.6666666666666666,
              "#ed7953"
             ],
             [
              0.7777777777777778,
              "#fb9f3a"
             ],
             [
              0.8888888888888888,
              "#fdca26"
             ],
             [
              1,
              "#f0f921"
             ]
            ],
            "type": "histogram2d"
           }
          ],
          "histogram2dcontour": [
           {
            "colorbar": {
             "outlinewidth": 0,
             "ticks": ""
            },
            "colorscale": [
             [
              0,
              "#0d0887"
             ],
             [
              0.1111111111111111,
              "#46039f"
             ],
             [
              0.2222222222222222,
              "#7201a8"
             ],
             [
              0.3333333333333333,
              "#9c179e"
             ],
             [
              0.4444444444444444,
              "#bd3786"
             ],
             [
              0.5555555555555556,
              "#d8576b"
             ],
             [
              0.6666666666666666,
              "#ed7953"
             ],
             [
              0.7777777777777778,
              "#fb9f3a"
             ],
             [
              0.8888888888888888,
              "#fdca26"
             ],
             [
              1,
              "#f0f921"
             ]
            ],
            "type": "histogram2dcontour"
           }
          ],
          "mesh3d": [
           {
            "colorbar": {
             "outlinewidth": 0,
             "ticks": ""
            },
            "type": "mesh3d"
           }
          ],
          "parcoords": [
           {
            "line": {
             "colorbar": {
              "outlinewidth": 0,
              "ticks": ""
             }
            },
            "type": "parcoords"
           }
          ],
          "pie": [
           {
            "automargin": true,
            "type": "pie"
           }
          ],
          "scatter": [
           {
            "fillpattern": {
             "fillmode": "overlay",
             "size": 10,
             "solidity": 0.2
            },
            "type": "scatter"
           }
          ],
          "scatter3d": [
           {
            "line": {
             "colorbar": {
              "outlinewidth": 0,
              "ticks": ""
             }
            },
            "marker": {
             "colorbar": {
              "outlinewidth": 0,
              "ticks": ""
             }
            },
            "type": "scatter3d"
           }
          ],
          "scattercarpet": [
           {
            "marker": {
             "colorbar": {
              "outlinewidth": 0,
              "ticks": ""
             }
            },
            "type": "scattercarpet"
           }
          ],
          "scattergeo": [
           {
            "marker": {
             "colorbar": {
              "outlinewidth": 0,
              "ticks": ""
             }
            },
            "type": "scattergeo"
           }
          ],
          "scattergl": [
           {
            "marker": {
             "colorbar": {
              "outlinewidth": 0,
              "ticks": ""
             }
            },
            "type": "scattergl"
           }
          ],
          "scattermapbox": [
           {
            "marker": {
             "colorbar": {
              "outlinewidth": 0,
              "ticks": ""
             }
            },
            "type": "scattermapbox"
           }
          ],
          "scatterpolar": [
           {
            "marker": {
             "colorbar": {
              "outlinewidth": 0,
              "ticks": ""
             }
            },
            "type": "scatterpolar"
           }
          ],
          "scatterpolargl": [
           {
            "marker": {
             "colorbar": {
              "outlinewidth": 0,
              "ticks": ""
             }
            },
            "type": "scatterpolargl"
           }
          ],
          "scatterternary": [
           {
            "marker": {
             "colorbar": {
              "outlinewidth": 0,
              "ticks": ""
             }
            },
            "type": "scatterternary"
           }
          ],
          "surface": [
           {
            "colorbar": {
             "outlinewidth": 0,
             "ticks": ""
            },
            "colorscale": [
             [
              0,
              "#0d0887"
             ],
             [
              0.1111111111111111,
              "#46039f"
             ],
             [
              0.2222222222222222,
              "#7201a8"
             ],
             [
              0.3333333333333333,
              "#9c179e"
             ],
             [
              0.4444444444444444,
              "#bd3786"
             ],
             [
              0.5555555555555556,
              "#d8576b"
             ],
             [
              0.6666666666666666,
              "#ed7953"
             ],
             [
              0.7777777777777778,
              "#fb9f3a"
             ],
             [
              0.8888888888888888,
              "#fdca26"
             ],
             [
              1,
              "#f0f921"
             ]
            ],
            "type": "surface"
           }
          ],
          "table": [
           {
            "cells": {
             "fill": {
              "color": "#EBF0F8"
             },
             "line": {
              "color": "white"
             }
            },
            "header": {
             "fill": {
              "color": "#C8D4E3"
             },
             "line": {
              "color": "white"
             }
            },
            "type": "table"
           }
          ]
         },
         "layout": {
          "annotationdefaults": {
           "arrowcolor": "#2a3f5f",
           "arrowhead": 0,
           "arrowwidth": 1
          },
          "autotypenumbers": "strict",
          "coloraxis": {
           "colorbar": {
            "outlinewidth": 0,
            "ticks": ""
           }
          },
          "colorscale": {
           "diverging": [
            [
             0,
             "#8e0152"
            ],
            [
             0.1,
             "#c51b7d"
            ],
            [
             0.2,
             "#de77ae"
            ],
            [
             0.3,
             "#f1b6da"
            ],
            [
             0.4,
             "#fde0ef"
            ],
            [
             0.5,
             "#f7f7f7"
            ],
            [
             0.6,
             "#e6f5d0"
            ],
            [
             0.7,
             "#b8e186"
            ],
            [
             0.8,
             "#7fbc41"
            ],
            [
             0.9,
             "#4d9221"
            ],
            [
             1,
             "#276419"
            ]
           ],
           "sequential": [
            [
             0,
             "#0d0887"
            ],
            [
             0.1111111111111111,
             "#46039f"
            ],
            [
             0.2222222222222222,
             "#7201a8"
            ],
            [
             0.3333333333333333,
             "#9c179e"
            ],
            [
             0.4444444444444444,
             "#bd3786"
            ],
            [
             0.5555555555555556,
             "#d8576b"
            ],
            [
             0.6666666666666666,
             "#ed7953"
            ],
            [
             0.7777777777777778,
             "#fb9f3a"
            ],
            [
             0.8888888888888888,
             "#fdca26"
            ],
            [
             1,
             "#f0f921"
            ]
           ],
           "sequentialminus": [
            [
             0,
             "#0d0887"
            ],
            [
             0.1111111111111111,
             "#46039f"
            ],
            [
             0.2222222222222222,
             "#7201a8"
            ],
            [
             0.3333333333333333,
             "#9c179e"
            ],
            [
             0.4444444444444444,
             "#bd3786"
            ],
            [
             0.5555555555555556,
             "#d8576b"
            ],
            [
             0.6666666666666666,
             "#ed7953"
            ],
            [
             0.7777777777777778,
             "#fb9f3a"
            ],
            [
             0.8888888888888888,
             "#fdca26"
            ],
            [
             1,
             "#f0f921"
            ]
           ]
          },
          "colorway": [
           "#636efa",
           "#EF553B",
           "#00cc96",
           "#ab63fa",
           "#FFA15A",
           "#19d3f3",
           "#FF6692",
           "#B6E880",
           "#FF97FF",
           "#FECB52"
          ],
          "font": {
           "color": "#2a3f5f"
          },
          "geo": {
           "bgcolor": "white",
           "lakecolor": "white",
           "landcolor": "#E5ECF6",
           "showlakes": true,
           "showland": true,
           "subunitcolor": "white"
          },
          "hoverlabel": {
           "align": "left"
          },
          "hovermode": "closest",
          "mapbox": {
           "style": "light"
          },
          "paper_bgcolor": "white",
          "plot_bgcolor": "#E5ECF6",
          "polar": {
           "angularaxis": {
            "gridcolor": "white",
            "linecolor": "white",
            "ticks": ""
           },
           "bgcolor": "#E5ECF6",
           "radialaxis": {
            "gridcolor": "white",
            "linecolor": "white",
            "ticks": ""
           }
          },
          "scene": {
           "xaxis": {
            "backgroundcolor": "#E5ECF6",
            "gridcolor": "white",
            "gridwidth": 2,
            "linecolor": "white",
            "showbackground": true,
            "ticks": "",
            "zerolinecolor": "white"
           },
           "yaxis": {
            "backgroundcolor": "#E5ECF6",
            "gridcolor": "white",
            "gridwidth": 2,
            "linecolor": "white",
            "showbackground": true,
            "ticks": "",
            "zerolinecolor": "white"
           },
           "zaxis": {
            "backgroundcolor": "#E5ECF6",
            "gridcolor": "white",
            "gridwidth": 2,
            "linecolor": "white",
            "showbackground": true,
            "ticks": "",
            "zerolinecolor": "white"
           }
          },
          "shapedefaults": {
           "line": {
            "color": "#2a3f5f"
           }
          },
          "ternary": {
           "aaxis": {
            "gridcolor": "white",
            "linecolor": "white",
            "ticks": ""
           },
           "baxis": {
            "gridcolor": "white",
            "linecolor": "white",
            "ticks": ""
           },
           "bgcolor": "#E5ECF6",
           "caxis": {
            "gridcolor": "white",
            "linecolor": "white",
            "ticks": ""
           }
          },
          "title": {
           "x": 0.05
          },
          "xaxis": {
           "automargin": true,
           "gridcolor": "white",
           "linecolor": "white",
           "ticks": "",
           "title": {
            "standoff": 15
           },
           "zerolinecolor": "white",
           "zerolinewidth": 2
          },
          "yaxis": {
           "automargin": true,
           "gridcolor": "white",
           "linecolor": "white",
           "ticks": "",
           "title": {
            "standoff": 15
           },
           "zerolinecolor": "white",
           "zerolinewidth": 2
          }
         }
        },
        "width": 1000,
        "xaxis": {
         "anchor": "y",
         "domain": [
          0,
          0.45
         ],
         "title": {
          "text": "Cores"
         }
        },
        "xaxis2": {
         "anchor": "y2",
         "domain": [
          0.55,
          1
         ],
         "title": {
          "text": "Cores"
         }
        },
        "xaxis3": {
         "anchor": "y3",
         "domain": [
          0,
          0.45
         ],
         "title": {
          "text": "Cores"
         }
        },
        "xaxis4": {
         "anchor": "y4",
         "domain": [
          0.55,
          1
         ],
         "title": {
          "text": "Cores"
         }
        },
        "xaxis5": {
         "anchor": "y5",
         "domain": [
          0,
          0.45
         ],
         "title": {
          "text": "Cores"
         }
        },
        "xaxis6": {
         "anchor": "y6",
         "domain": [
          0.55,
          1
         ],
         "title": {
          "text": "Cores"
         }
        },
        "yaxis": {
         "anchor": "x",
         "domain": [
          0.7333333333333333,
          1
         ],
         "title": {
          "text": "Speed up"
         }
        },
        "yaxis2": {
         "anchor": "x2",
         "domain": [
          0.7333333333333333,
          1
         ],
         "title": {
          "text": "Speed up"
         }
        },
        "yaxis3": {
         "anchor": "x3",
         "domain": [
          0.36666666666666664,
          0.6333333333333333
         ],
         "title": {
          "text": "Speed up"
         }
        },
        "yaxis4": {
         "anchor": "x4",
         "domain": [
          0.36666666666666664,
          0.6333333333333333
         ],
         "title": {
          "text": "Speed up"
         }
        },
        "yaxis5": {
         "anchor": "x5",
         "domain": [
          0,
          0.26666666666666666
         ],
         "title": {
          "text": "Speed up"
         }
        },
        "yaxis6": {
         "anchor": "x6",
         "domain": [
          0,
          0.26666666666666666
         ],
         "title": {
          "text": "Speed up"
         }
        }
       }
      }
     },
     "metadata": {},
     "output_type": "display_data"
    }
   ],
   "source": [
    "comparacion_prueba1 = pd.merge(left=FilasxColumnasM1_promedio, right=FilasxFilasM1_promedio, how='inner', on=['N', 'CORES'])\n",
    "comparacion_prueba2 = pd.merge(left=FilasxColumnasM2_promedio, right=FilasxFilasM2_promedio, how='inner', on=['N', 'CORES'])\n",
    "comparacion_prueba3 = pd.merge(left=FilasxColumnasM3_promedio, right=FilasxFilasM2_promedio, how='inner', on=['N', 'CORES'])\n",
    "\n",
    "fig = make_subplots(rows=3, cols=2)\n",
    "for i, n_value in enumerate(comparacion_prueba1['N'].unique()):\n",
    "    color = colors[i % len(colors)]  # Seleccionar un color de la paleta\n",
    "    # Gráficas sobre la maquina 1\n",
    "    fig.add_trace(go.Scatter(x=comparacion_prueba1[comparacion_prueba1['N'] == n_value]['CORES'], \n",
    "                             y=comparacion_prueba1[comparacion_prueba1['N'] == n_value]['SPEED_UP_x'], mode='lines+markers', name=f'N={n_value}', line=dict(color=color), showlegend=True, legendgroup=f\"N={n_value}\"), row=1, col=1)\n",
    "    fig.add_trace(go.Scatter(x=comparacion_prueba1[comparacion_prueba1['N'] == n_value]['CORES'], \n",
    "                             y=comparacion_prueba1[comparacion_prueba1['N'] == n_value]['SPEED_UP_y'], mode='lines+markers', name=f'N={n_value}', line=dict(color=color), showlegend=True, legendgroup=f\"N={n_value}\"), row=1, col=2)\n",
    "    # Gráficas sobre la maquina 2\n",
    "    fig.add_trace(go.Scatter(x=comparacion_prueba2[comparacion_prueba2['N'] == n_value]['CORES'], \n",
    "                             y=comparacion_prueba2[comparacion_prueba2['N'] == n_value]['SPEED_UP_x'], mode='lines+markers', name=f'N={n_value}', line=dict(color=color), showlegend=True, legendgroup=f\"N={n_value}\"), row=2, col=1)\n",
    "    fig.add_trace(go.Scatter(x=comparacion_prueba2[comparacion_prueba2['N'] == n_value]['CORES'], \n",
    "                             y=comparacion_prueba2[comparacion_prueba2['N'] == n_value]['SPEED_UP_y'], mode='lines+markers', name=f'N={n_value}', line=dict(color=color), showlegend=True, legendgroup=f\"N={n_value}\"), row=2, col=2)\n",
    "    # Gráficas sobre la maquina 3\n",
    "    fig.add_trace(go.Scatter(x=comparacion_prueba3[comparacion_prueba3['N'] == n_value]['CORES'], \n",
    "                             y=comparacion_prueba3[comparacion_prueba3['N'] == n_value]['SPEED_UP_x'], mode='lines+markers', name=f'N={n_value}', line=dict(color=color), showlegend=True, legendgroup=f\"N={n_value}\"), row=3, col=1)\n",
    "    fig.add_trace(go.Scatter(x=comparacion_prueba3[comparacion_prueba3['N'] == n_value]['CORES'], \n",
    "                             y=comparacion_prueba3[comparacion_prueba3['N'] == n_value]['SPEED_UP_y'], mode='lines+markers', name=f'N={n_value}', line=dict(color=color), showlegend=True, legendgroup=f\"N={n_value}\"), row=3, col=2)\n",
    "\n",
    "# Actualizar el diseño del gráfico\n",
    "fig.update_xaxes(title_text=\"Cores\", row=1, col=1)\n",
    "fig.update_yaxes(title_text=\"Speed up\", row=1, col=1)\n",
    "\n",
    "fig.update_xaxes(title_text=\"Cores\", row=1, col=2)\n",
    "fig.update_yaxes(title_text=\"Speed up\", row=1, col=2)\n",
    "\n",
    "fig.update_xaxes(title_text=\"Cores\", row=2, col=1)\n",
    "fig.update_yaxes(title_text=\"Speed up\", row=2, col=1)\n",
    "\n",
    "fig.update_xaxes(title_text=\"Cores\", row=2, col=2)\n",
    "fig.update_yaxes(title_text=\"Speed up\", row=2, col=2)\n",
    "\n",
    "fig.update_xaxes(title_text=\"Cores\", row=3, col=1)\n",
    "fig.update_yaxes(title_text=\"Speed up\", row=3, col=1)\n",
    "\n",
    "fig.update_xaxes(title_text=\"Cores\", row=3, col=2)\n",
    "fig.update_yaxes(title_text=\"Speed up\", row=3, col=2)\n",
    "\n",
    "fig.update_layout(annotations=[\n",
    "    dict(text=\"Filas x Columnas\", x=0.18, y=1.1, xref=\"paper\", yref=\"paper\", showarrow=False, font=dict(size=20)),\n",
    "    dict(text=\"Filas x Filas\", x=0.825, y=1.1, xref=\"paper\", yref=\"paper\", showarrow=False, font=dict(size=20))\n",
    "])\n",
    "\n",
    "fig.update_layout(height=800, width=1000)\n",
    "# Mostrar el gráfico\n",
    "fig.show()"
   ]
  },
  {
   "cell_type": "markdown",
   "metadata": {},
   "source": [
    "A continuación graficaremos el tiempo de ejecución"
   ]
  },
  {
   "cell_type": "code",
   "execution_count": 67,
   "metadata": {},
   "outputs": [
    {
     "data": {
      "application/vnd.plotly.v1+json": {
       "config": {
        "plotlyServerURL": "https://plot.ly"
       },
       "data": [
        {
         "legendgroup": "N=100",
         "line": {
          "color": "blue"
         },
         "mode": "lines+markers",
         "name": "N=100",
         "showlegend": true,
         "type": "scatter",
         "x": [
          1,
          2,
          3,
          4,
          5,
          6,
          7,
          8
         ],
         "xaxis": "x",
         "y": [
          7.029995833333333,
          3.9770095238095236,
          1.3353444444444444,
          4.863786666666667,
          2.1756583333333332,
          3.9482444444444447,
          2.4648833333333333,
          3.3480666666666665
         ],
         "yaxis": "y"
        },
        {
         "legendgroup": "N=100",
         "line": {
          "color": "blue"
         },
         "mode": "lines+markers",
         "name": "N=100",
         "showlegend": true,
         "type": "scatter",
         "x": [
          1,
          2,
          3,
          4,
          5,
          6,
          7,
          8
         ],
         "xaxis": "x2",
         "y": [
          10.333145833333335,
          6.166695238095238,
          0.1818111111111111,
          7.214733333333333,
          2.242108333333333,
          5.115466666666666,
          2.7570333333333332,
          3.4594333333333336
         ],
         "yaxis": "y2"
        },
        {
         "legendgroup": "N=100",
         "line": {
          "color": "blue"
         },
         "mode": "lines+markers",
         "name": "N=100",
         "showlegend": true,
         "type": "scatter",
         "x": [
          1,
          2,
          3,
          4,
          5,
          6,
          7,
          8
         ],
         "xaxis": "x3",
         "y": [
          3.483672916666667,
          1.969445238095238,
          1.1737888888888888,
          2.3424699999999996,
          1.6675041666666666,
          1.8211055555555555,
          1.2544833333333334,
          1.1763166666666667
         ],
         "yaxis": "y3"
        },
        {
         "legendgroup": "N=100",
         "line": {
          "color": "blue"
         },
         "mode": "lines+markers",
         "name": "N=100",
         "showlegend": true,
         "type": "scatter",
         "x": [
          1,
          2,
          3,
          4,
          5,
          6,
          7,
          8
         ],
         "xaxis": "x4",
         "y": [
          5.222635416666667,
          3.148516666666667,
          0.1578638888888889,
          3.671316666666667,
          1.1798499999999998,
          2.6195944444444446,
          1.4424333333333335,
          1.7875
         ],
         "yaxis": "y4"
        },
        {
         "legendgroup": "N=100",
         "line": {
          "color": "blue"
         },
         "mode": "lines+markers",
         "name": "N=100",
         "showlegend": true,
         "type": "scatter",
         "x": [
          1,
          2,
          3,
          4,
          5,
          6,
          7,
          8
         ],
         "xaxis": "x5",
         "y": [
          2.4319555555555556,
          1.3965460317460319,
          0.8568907407407408,
          1.6330355555555554,
          1.1787916666666667,
          1.2753962962962961,
          0.9014722222222221,
          0.8503666666666667
         ],
         "yaxis": "y5"
        },
        {
         "legendgroup": "N=100",
         "line": {
          "color": "blue"
         },
         "mode": "lines+markers",
         "name": "N=100",
         "showlegend": true,
         "type": "scatter",
         "x": [
          1,
          2,
          3,
          4,
          5,
          6,
          7,
          8
         ],
         "xaxis": "x6",
         "y": [
          3.512493055555556,
          2.125639682539682,
          0.13592222222222222,
          2.48052,
          0.8236694444444445,
          1.7955185185185185,
          1.0096222222222222,
          1.2788666666666666
         ],
         "yaxis": "y6"
        },
        {
         "legendgroup": "N=200",
         "line": {
          "color": "red"
         },
         "mode": "lines+markers",
         "name": "N=200",
         "showlegend": true,
         "type": "scatter",
         "x": [
          1,
          2,
          3,
          4,
          5,
          6,
          7,
          8
         ],
         "xaxis": "x",
         "y": [
          102.396075,
          93.90049047619047,
          84.57288333333334,
          87.275,
          76.3368,
          61.91837777777778,
          56.87125,
          59.52476666666667
         ],
         "yaxis": "y"
        },
        {
         "legendgroup": "N=200",
         "line": {
          "color": "red"
         },
         "mode": "lines+markers",
         "name": "N=200",
         "showlegend": true,
         "type": "scatter",
         "x": [
          1,
          2,
          3,
          4,
          5,
          6,
          7,
          8
         ],
         "xaxis": "x2",
         "y": [
          169.39700416666668,
          181.04740476190477,
          189.88469444444445,
          209.5642,
          220.53493333333333,
          244.48416666666665,
          267.29671666666667,
          243.17446666666666
         ],
         "yaxis": "y2"
        },
        {
         "legendgroup": "N=200",
         "line": {
          "color": "red"
         },
         "mode": "lines+markers",
         "name": "N=200",
         "showlegend": true,
         "type": "scatter",
         "x": [
          1,
          2,
          3,
          4,
          5,
          6,
          7,
          8
         ],
         "xaxis": "x3",
         "y": [
          51.79086041666667,
          46.94017380952381,
          41.096599999999995,
          50.347636666666666,
          49.6651375,
          53.68935,
          48.285408333333336,
          48.56153333333333
         ],
         "yaxis": "y3"
        },
        {
         "legendgroup": "N=200",
         "line": {
          "color": "red"
         },
         "mode": "lines+markers",
         "name": "N=200",
         "showlegend": true,
         "type": "scatter",
         "x": [
          1,
          2,
          3,
          4,
          5,
          6,
          7,
          8
         ],
         "xaxis": "x4",
         "y": [
          84.84282083333333,
          90.67900714285715,
          95.09524722222223,
          104.92348,
          110.35890833333335,
          122.3279111111111,
          133.738675,
          121.68568333333333
         ],
         "yaxis": "y4"
        },
        {
         "legendgroup": "N=200",
         "line": {
          "color": "red"
         },
         "mode": "lines+markers",
         "name": "N=200",
         "showlegend": true,
         "type": "scatter",
         "x": [
          1,
          2,
          3,
          4,
          5,
          6,
          7,
          8
         ],
         "xaxis": "x5",
         "y": [
          35.404561111111114,
          31.960422222222224,
          27.985112962962962,
          34.09594222222222,
          33.61857222222223,
          36.28795185185185,
          32.690933333333334,
          32.95961111111111
         ],
         "yaxis": "y5"
        },
        {
         "legendgroup": "N=200",
         "line": {
          "color": "red"
         },
         "mode": "lines+markers",
         "name": "N=200",
         "showlegend": true,
         "type": "scatter",
         "x": [
          1,
          2,
          3,
          4,
          5,
          6,
          7,
          8
         ],
         "xaxis": "x6",
         "y": [
          56.604369444444444,
          60.4925873015873,
          63.43447592592592,
          69.98644,
          73.60881666666667,
          81.58729259259259,
          89.19796111111111,
          81.16974444444445
         ],
         "yaxis": "y6"
        },
        {
         "legendgroup": "N=300",
         "line": {
          "color": "green"
         },
         "mode": "lines+markers",
         "name": "N=300",
         "showlegend": true,
         "type": "scatter",
         "x": [
          1,
          2,
          3,
          4,
          5,
          6,
          7,
          8
         ],
         "xaxis": "x",
         "y": [
          303.2442625,
          278.6276571428572,
          277.22775,
          300.31668666666667,
          285.80530833333336,
          277.71355555555556,
          257.19408333333337,
          217.5335
         ],
         "yaxis": "y"
        },
        {
         "legendgroup": "N=300",
         "line": {
          "color": "green"
         },
         "mode": "lines+markers",
         "name": "N=300",
         "showlegend": true,
         "type": "scatter",
         "x": [
          1,
          2,
          3,
          4,
          5,
          6,
          7,
          8
         ],
         "xaxis": "x2",
         "y": [
          648.0502583333333,
          703.654280952381,
          755.6975277777777,
          837.0464133333334,
          882.8698583333332,
          961.7082111111112,
          1033.7730666666666,
          1147.3891333333333
         ],
         "yaxis": "y2"
        },
        {
         "legendgroup": "N=300",
         "line": {
          "color": "green"
         },
         "mode": "lines+markers",
         "name": "N=300",
         "showlegend": true,
         "type": "scatter",
         "x": [
          1,
          2,
          3,
          4,
          5,
          6,
          7,
          8
         ],
         "xaxis": "x3",
         "y": [
          151.80683125,
          136.8065380952381,
          133.55321666666669,
          140.68346666666667,
          140.03125833333334,
          150.6843888888889,
          155.23680833333333,
          155.78496666666666
         ],
         "yaxis": "y3"
        },
        {
         "legendgroup": "N=300",
         "line": {
          "color": "green"
         },
         "mode": "lines+markers",
         "name": "N=300",
         "showlegend": true,
         "type": "scatter",
         "x": [
          1,
          2,
          3,
          4,
          5,
          6,
          7,
          8
         ],
         "xaxis": "x4",
         "y": [
          324.43049583333334,
          352.23886666666664,
          378.25193333333334,
          418.85587,
          441.6708125,
          481.0563277777778,
          517.0896666666666,
          573.9001999999999
         ],
         "yaxis": "y4"
        },
        {
         "legendgroup": "N=300",
         "line": {
          "color": "green"
         },
         "mode": "lines+markers",
         "name": "N=300",
         "showlegend": true,
         "type": "scatter",
         "x": [
          1,
          2,
          3,
          4,
          5,
          6,
          7,
          8
         ],
         "xaxis": "x5",
         "y": [
          104.18259305555556,
          93.48353174603174,
          91.02472222222222,
          95.5888311111111,
          95.05768055555556,
          102.11116296296296,
          105.22408888888889,
          105.79962222222223
         ],
         "yaxis": "y5"
        },
        {
         "legendgroup": "N=300",
         "line": {
          "color": "green"
         },
         "mode": "lines+markers",
         "name": "N=300",
         "showlegend": true,
         "type": "scatter",
         "x": [
          1,
          2,
          3,
          4,
          5,
          6,
          7,
          8
         ],
         "xaxis": "x6",
         "y": [
          216.43179305555554,
          234.96281587301587,
          252.3057740740741,
          279.3850422222222,
          294.604425,
          320.87034814814814,
          344.91661666666664,
          382.85713333333337
         ],
         "yaxis": "y6"
        },
        {
         "legendgroup": "N=400",
         "line": {
          "color": "orange"
         },
         "mode": "lines+markers",
         "name": "N=400",
         "showlegend": true,
         "type": "scatter",
         "x": [
          1,
          2,
          3,
          4,
          5,
          6,
          7,
          8
         ],
         "xaxis": "x",
         "y": [
          482.0721375,
          443.55649047619045,
          405.4540666666667,
          426.06017333333335,
          432.96200833333336,
          458.98972222222227,
          447.3428333333333,
          464.61676666666665
         ],
         "yaxis": "y"
        },
        {
         "legendgroup": "N=400",
         "line": {
          "color": "orange"
         },
         "mode": "lines+markers",
         "name": "N=400",
         "showlegend": true,
         "type": "scatter",
         "x": [
          1,
          2,
          3,
          4,
          5,
          6,
          7,
          8
         ],
         "xaxis": "x2",
         "y": [
          1581.0412833333335,
          1729.4574809523808,
          1883.9118555555556,
          2069.3495133333336,
          2237.6434249999998,
          2418.3214888888892,
          2597.032,
          2802.0749666666666
         ],
         "yaxis": "y2"
        },
        {
         "legendgroup": "N=400",
         "line": {
          "color": "orange"
         },
         "mode": "lines+markers",
         "name": "N=400",
         "showlegend": true,
         "type": "scatter",
         "x": [
          1,
          2,
          3,
          4,
          5,
          6,
          7,
          8
         ],
         "xaxis": "x3",
         "y": [
          254.8871208333333,
          233.13116428571428,
          232.49301944444446,
          233.58672666666666,
          220.65892916666667,
          211.60358888888888,
          217.21435833333334,
          238.68529999999998
         ],
         "yaxis": "y3"
        },
        {
         "legendgroup": "N=400",
         "line": {
          "color": "orange"
         },
         "mode": "lines+markers",
         "name": "N=400",
         "showlegend": true,
         "type": "scatter",
         "x": [
          1,
          2,
          3,
          4,
          5,
          6,
          7,
          8
         ],
         "xaxis": "x4",
         "y": [
          791.0346083333333,
          865.24885,
          942.4893055555555,
          1035.0968633333332,
          1119.0131416666666,
          1209.2732222222223,
          1298.6335666666666,
          1401.1544166666667
         ],
         "yaxis": "y4"
        },
        {
         "legendgroup": "N=400",
         "line": {
          "color": "orange"
         },
         "mode": "lines+markers",
         "name": "N=400",
         "showlegend": true,
         "type": "scatter",
         "x": [
          1,
          2,
          3,
          4,
          5,
          6,
          7,
          8
         ],
         "xaxis": "x5",
         "y": [
          177.08048333333335,
          160.92995238095236,
          159.79052407407409,
          160.10517777777778,
          151.15835555555554,
          144.92051481481482,
          148.5966388888889,
          162.98175555555554
         ],
         "yaxis": "y5"
        },
        {
         "legendgroup": "N=400",
         "line": {
          "color": "orange"
         },
         "mode": "lines+markers",
         "name": "N=400",
         "showlegend": true,
         "type": "scatter",
         "x": [
          1,
          2,
          3,
          4,
          5,
          6,
          7,
          8
         ],
         "xaxis": "x6",
         "y": [
          527.5047708333334,
          576.9708619047618,
          628.4625314814815,
          690.2020733333334,
          746.1466361111111,
          806.317662962963,
          865.8911333333333,
          934.2412333333333
         ],
         "yaxis": "y6"
        },
        {
         "legendgroup": "N=500",
         "line": {
          "color": "purple"
         },
         "mode": "lines+markers",
         "name": "N=500",
         "showlegend": true,
         "type": "scatter",
         "x": [
          1,
          2,
          3,
          4,
          5,
          6,
          7,
          8
         ],
         "xaxis": "x",
         "y": [
          611.4199083333333,
          581.6655761904761,
          550.5600944444444,
          570.8662800000001,
          574.7597583333333,
          571.2161222222222,
          559.7406500000001,
          575.1862333333332
         ],
         "yaxis": "y"
        },
        {
         "legendgroup": "N=500",
         "line": {
          "color": "purple"
         },
         "mode": "lines+markers",
         "name": "N=500",
         "showlegend": true,
         "type": "scatter",
         "x": [
          1,
          2,
          3,
          4,
          5,
          6,
          7,
          8
         ],
         "xaxis": "x2",
         "y": [
          3193.1502791666667,
          3485.275842857143,
          3798.7022722222223,
          4154.930613333333,
          4503.464075,
          4884.716066666667,
          5290.365433333333,
          5660.158733333334
         ],
         "yaxis": "y2"
        },
        {
         "legendgroup": "N=500",
         "line": {
          "color": "purple"
         },
         "mode": "lines+markers",
         "name": "N=500",
         "showlegend": true,
         "type": "scatter",
         "x": [
          1,
          2,
          3,
          4,
          5,
          6,
          7,
          8
         ],
         "xaxis": "x3",
         "y": [
          345.77073125000004,
          324.45364047619046,
          320.7981666666667,
          321.09918666666664,
          310.043425,
          321.7290888888889,
          324.09539166666667,
          326.0620833333333
         ],
         "yaxis": "y3"
        },
        {
         "legendgroup": "N=500",
         "line": {
          "color": "purple"
         },
         "mode": "lines+markers",
         "name": "N=500",
         "showlegend": true,
         "type": "scatter",
         "x": [
          1,
          2,
          3,
          4,
          5,
          6,
          7,
          8
         ],
         "xaxis": "x4",
         "y": [
          1598.9464583333333,
          1744.9406357142857,
          1901.6047222222223,
          2079.4988233333333,
          2253.064125,
          2443.304638888889,
          2646.0191666666665,
          2831.1523333333334
         ],
         "yaxis": "y4"
        },
        {
         "legendgroup": "N=500",
         "line": {
          "color": "purple"
         },
         "mode": "lines+markers",
         "name": "N=500",
         "showlegend": true,
         "type": "scatter",
         "x": [
          1,
          2,
          3,
          4,
          5,
          6,
          7,
          8
         ],
         "xaxis": "x5",
         "y": [
          246.3468777777778,
          228.9331396825397,
          225.2098648148148,
          224.65913555555554,
          216.6773722222222,
          223.98974074074073,
          225.32453333333333,
          226.4792111111111
         ],
         "yaxis": "y5"
        },
        {
         "legendgroup": "N=500",
         "line": {
          "color": "purple"
         },
         "mode": "lines+markers",
         "name": "N=500",
         "showlegend": true,
         "type": "scatter",
         "x": [
          1,
          2,
          3,
          4,
          5,
          6,
          7,
          8
         ],
         "xaxis": "x6",
         "y": [
          1066.8746125,
          1164.1499587301587,
          1268.568537037037,
          1387.1620644444445,
          1502.8899916666667,
          1629.7419851851853,
          1764.9069222222222,
          1888.3189
         ],
         "yaxis": "y6"
        }
       ],
       "layout": {
        "annotations": [
         {
          "font": {
           "size": 20
          },
          "showarrow": false,
          "text": "Filas x Columnas",
          "x": 0.18,
          "xref": "paper",
          "y": 1.1,
          "yref": "paper"
         },
         {
          "font": {
           "size": 20
          },
          "showarrow": false,
          "text": "Filas x Filas",
          "x": 0.825,
          "xref": "paper",
          "y": 1.1,
          "yref": "paper"
         }
        ],
        "height": 800,
        "template": {
         "data": {
          "bar": [
           {
            "error_x": {
             "color": "#2a3f5f"
            },
            "error_y": {
             "color": "#2a3f5f"
            },
            "marker": {
             "line": {
              "color": "#E5ECF6",
              "width": 0.5
             },
             "pattern": {
              "fillmode": "overlay",
              "size": 10,
              "solidity": 0.2
             }
            },
            "type": "bar"
           }
          ],
          "barpolar": [
           {
            "marker": {
             "line": {
              "color": "#E5ECF6",
              "width": 0.5
             },
             "pattern": {
              "fillmode": "overlay",
              "size": 10,
              "solidity": 0.2
             }
            },
            "type": "barpolar"
           }
          ],
          "carpet": [
           {
            "aaxis": {
             "endlinecolor": "#2a3f5f",
             "gridcolor": "white",
             "linecolor": "white",
             "minorgridcolor": "white",
             "startlinecolor": "#2a3f5f"
            },
            "baxis": {
             "endlinecolor": "#2a3f5f",
             "gridcolor": "white",
             "linecolor": "white",
             "minorgridcolor": "white",
             "startlinecolor": "#2a3f5f"
            },
            "type": "carpet"
           }
          ],
          "choropleth": [
           {
            "colorbar": {
             "outlinewidth": 0,
             "ticks": ""
            },
            "type": "choropleth"
           }
          ],
          "contour": [
           {
            "colorbar": {
             "outlinewidth": 0,
             "ticks": ""
            },
            "colorscale": [
             [
              0,
              "#0d0887"
             ],
             [
              0.1111111111111111,
              "#46039f"
             ],
             [
              0.2222222222222222,
              "#7201a8"
             ],
             [
              0.3333333333333333,
              "#9c179e"
             ],
             [
              0.4444444444444444,
              "#bd3786"
             ],
             [
              0.5555555555555556,
              "#d8576b"
             ],
             [
              0.6666666666666666,
              "#ed7953"
             ],
             [
              0.7777777777777778,
              "#fb9f3a"
             ],
             [
              0.8888888888888888,
              "#fdca26"
             ],
             [
              1,
              "#f0f921"
             ]
            ],
            "type": "contour"
           }
          ],
          "contourcarpet": [
           {
            "colorbar": {
             "outlinewidth": 0,
             "ticks": ""
            },
            "type": "contourcarpet"
           }
          ],
          "heatmap": [
           {
            "colorbar": {
             "outlinewidth": 0,
             "ticks": ""
            },
            "colorscale": [
             [
              0,
              "#0d0887"
             ],
             [
              0.1111111111111111,
              "#46039f"
             ],
             [
              0.2222222222222222,
              "#7201a8"
             ],
             [
              0.3333333333333333,
              "#9c179e"
             ],
             [
              0.4444444444444444,
              "#bd3786"
             ],
             [
              0.5555555555555556,
              "#d8576b"
             ],
             [
              0.6666666666666666,
              "#ed7953"
             ],
             [
              0.7777777777777778,
              "#fb9f3a"
             ],
             [
              0.8888888888888888,
              "#fdca26"
             ],
             [
              1,
              "#f0f921"
             ]
            ],
            "type": "heatmap"
           }
          ],
          "heatmapgl": [
           {
            "colorbar": {
             "outlinewidth": 0,
             "ticks": ""
            },
            "colorscale": [
             [
              0,
              "#0d0887"
             ],
             [
              0.1111111111111111,
              "#46039f"
             ],
             [
              0.2222222222222222,
              "#7201a8"
             ],
             [
              0.3333333333333333,
              "#9c179e"
             ],
             [
              0.4444444444444444,
              "#bd3786"
             ],
             [
              0.5555555555555556,
              "#d8576b"
             ],
             [
              0.6666666666666666,
              "#ed7953"
             ],
             [
              0.7777777777777778,
              "#fb9f3a"
             ],
             [
              0.8888888888888888,
              "#fdca26"
             ],
             [
              1,
              "#f0f921"
             ]
            ],
            "type": "heatmapgl"
           }
          ],
          "histogram": [
           {
            "marker": {
             "pattern": {
              "fillmode": "overlay",
              "size": 10,
              "solidity": 0.2
             }
            },
            "type": "histogram"
           }
          ],
          "histogram2d": [
           {
            "colorbar": {
             "outlinewidth": 0,
             "ticks": ""
            },
            "colorscale": [
             [
              0,
              "#0d0887"
             ],
             [
              0.1111111111111111,
              "#46039f"
             ],
             [
              0.2222222222222222,
              "#7201a8"
             ],
             [
              0.3333333333333333,
              "#9c179e"
             ],
             [
              0.4444444444444444,
              "#bd3786"
             ],
             [
              0.5555555555555556,
              "#d8576b"
             ],
             [
              0.6666666666666666,
              "#ed7953"
             ],
             [
              0.7777777777777778,
              "#fb9f3a"
             ],
             [
              0.8888888888888888,
              "#fdca26"
             ],
             [
              1,
              "#f0f921"
             ]
            ],
            "type": "histogram2d"
           }
          ],
          "histogram2dcontour": [
           {
            "colorbar": {
             "outlinewidth": 0,
             "ticks": ""
            },
            "colorscale": [
             [
              0,
              "#0d0887"
             ],
             [
              0.1111111111111111,
              "#46039f"
             ],
             [
              0.2222222222222222,
              "#7201a8"
             ],
             [
              0.3333333333333333,
              "#9c179e"
             ],
             [
              0.4444444444444444,
              "#bd3786"
             ],
             [
              0.5555555555555556,
              "#d8576b"
             ],
             [
              0.6666666666666666,
              "#ed7953"
             ],
             [
              0.7777777777777778,
              "#fb9f3a"
             ],
             [
              0.8888888888888888,
              "#fdca26"
             ],
             [
              1,
              "#f0f921"
             ]
            ],
            "type": "histogram2dcontour"
           }
          ],
          "mesh3d": [
           {
            "colorbar": {
             "outlinewidth": 0,
             "ticks": ""
            },
            "type": "mesh3d"
           }
          ],
          "parcoords": [
           {
            "line": {
             "colorbar": {
              "outlinewidth": 0,
              "ticks": ""
             }
            },
            "type": "parcoords"
           }
          ],
          "pie": [
           {
            "automargin": true,
            "type": "pie"
           }
          ],
          "scatter": [
           {
            "fillpattern": {
             "fillmode": "overlay",
             "size": 10,
             "solidity": 0.2
            },
            "type": "scatter"
           }
          ],
          "scatter3d": [
           {
            "line": {
             "colorbar": {
              "outlinewidth": 0,
              "ticks": ""
             }
            },
            "marker": {
             "colorbar": {
              "outlinewidth": 0,
              "ticks": ""
             }
            },
            "type": "scatter3d"
           }
          ],
          "scattercarpet": [
           {
            "marker": {
             "colorbar": {
              "outlinewidth": 0,
              "ticks": ""
             }
            },
            "type": "scattercarpet"
           }
          ],
          "scattergeo": [
           {
            "marker": {
             "colorbar": {
              "outlinewidth": 0,
              "ticks": ""
             }
            },
            "type": "scattergeo"
           }
          ],
          "scattergl": [
           {
            "marker": {
             "colorbar": {
              "outlinewidth": 0,
              "ticks": ""
             }
            },
            "type": "scattergl"
           }
          ],
          "scattermapbox": [
           {
            "marker": {
             "colorbar": {
              "outlinewidth": 0,
              "ticks": ""
             }
            },
            "type": "scattermapbox"
           }
          ],
          "scatterpolar": [
           {
            "marker": {
             "colorbar": {
              "outlinewidth": 0,
              "ticks": ""
             }
            },
            "type": "scatterpolar"
           }
          ],
          "scatterpolargl": [
           {
            "marker": {
             "colorbar": {
              "outlinewidth": 0,
              "ticks": ""
             }
            },
            "type": "scatterpolargl"
           }
          ],
          "scatterternary": [
           {
            "marker": {
             "colorbar": {
              "outlinewidth": 0,
              "ticks": ""
             }
            },
            "type": "scatterternary"
           }
          ],
          "surface": [
           {
            "colorbar": {
             "outlinewidth": 0,
             "ticks": ""
            },
            "colorscale": [
             [
              0,
              "#0d0887"
             ],
             [
              0.1111111111111111,
              "#46039f"
             ],
             [
              0.2222222222222222,
              "#7201a8"
             ],
             [
              0.3333333333333333,
              "#9c179e"
             ],
             [
              0.4444444444444444,
              "#bd3786"
             ],
             [
              0.5555555555555556,
              "#d8576b"
             ],
             [
              0.6666666666666666,
              "#ed7953"
             ],
             [
              0.7777777777777778,
              "#fb9f3a"
             ],
             [
              0.8888888888888888,
              "#fdca26"
             ],
             [
              1,
              "#f0f921"
             ]
            ],
            "type": "surface"
           }
          ],
          "table": [
           {
            "cells": {
             "fill": {
              "color": "#EBF0F8"
             },
             "line": {
              "color": "white"
             }
            },
            "header": {
             "fill": {
              "color": "#C8D4E3"
             },
             "line": {
              "color": "white"
             }
            },
            "type": "table"
           }
          ]
         },
         "layout": {
          "annotationdefaults": {
           "arrowcolor": "#2a3f5f",
           "arrowhead": 0,
           "arrowwidth": 1
          },
          "autotypenumbers": "strict",
          "coloraxis": {
           "colorbar": {
            "outlinewidth": 0,
            "ticks": ""
           }
          },
          "colorscale": {
           "diverging": [
            [
             0,
             "#8e0152"
            ],
            [
             0.1,
             "#c51b7d"
            ],
            [
             0.2,
             "#de77ae"
            ],
            [
             0.3,
             "#f1b6da"
            ],
            [
             0.4,
             "#fde0ef"
            ],
            [
             0.5,
             "#f7f7f7"
            ],
            [
             0.6,
             "#e6f5d0"
            ],
            [
             0.7,
             "#b8e186"
            ],
            [
             0.8,
             "#7fbc41"
            ],
            [
             0.9,
             "#4d9221"
            ],
            [
             1,
             "#276419"
            ]
           ],
           "sequential": [
            [
             0,
             "#0d0887"
            ],
            [
             0.1111111111111111,
             "#46039f"
            ],
            [
             0.2222222222222222,
             "#7201a8"
            ],
            [
             0.3333333333333333,
             "#9c179e"
            ],
            [
             0.4444444444444444,
             "#bd3786"
            ],
            [
             0.5555555555555556,
             "#d8576b"
            ],
            [
             0.6666666666666666,
             "#ed7953"
            ],
            [
             0.7777777777777778,
             "#fb9f3a"
            ],
            [
             0.8888888888888888,
             "#fdca26"
            ],
            [
             1,
             "#f0f921"
            ]
           ],
           "sequentialminus": [
            [
             0,
             "#0d0887"
            ],
            [
             0.1111111111111111,
             "#46039f"
            ],
            [
             0.2222222222222222,
             "#7201a8"
            ],
            [
             0.3333333333333333,
             "#9c179e"
            ],
            [
             0.4444444444444444,
             "#bd3786"
            ],
            [
             0.5555555555555556,
             "#d8576b"
            ],
            [
             0.6666666666666666,
             "#ed7953"
            ],
            [
             0.7777777777777778,
             "#fb9f3a"
            ],
            [
             0.8888888888888888,
             "#fdca26"
            ],
            [
             1,
             "#f0f921"
            ]
           ]
          },
          "colorway": [
           "#636efa",
           "#EF553B",
           "#00cc96",
           "#ab63fa",
           "#FFA15A",
           "#19d3f3",
           "#FF6692",
           "#B6E880",
           "#FF97FF",
           "#FECB52"
          ],
          "font": {
           "color": "#2a3f5f"
          },
          "geo": {
           "bgcolor": "white",
           "lakecolor": "white",
           "landcolor": "#E5ECF6",
           "showlakes": true,
           "showland": true,
           "subunitcolor": "white"
          },
          "hoverlabel": {
           "align": "left"
          },
          "hovermode": "closest",
          "mapbox": {
           "style": "light"
          },
          "paper_bgcolor": "white",
          "plot_bgcolor": "#E5ECF6",
          "polar": {
           "angularaxis": {
            "gridcolor": "white",
            "linecolor": "white",
            "ticks": ""
           },
           "bgcolor": "#E5ECF6",
           "radialaxis": {
            "gridcolor": "white",
            "linecolor": "white",
            "ticks": ""
           }
          },
          "scene": {
           "xaxis": {
            "backgroundcolor": "#E5ECF6",
            "gridcolor": "white",
            "gridwidth": 2,
            "linecolor": "white",
            "showbackground": true,
            "ticks": "",
            "zerolinecolor": "white"
           },
           "yaxis": {
            "backgroundcolor": "#E5ECF6",
            "gridcolor": "white",
            "gridwidth": 2,
            "linecolor": "white",
            "showbackground": true,
            "ticks": "",
            "zerolinecolor": "white"
           },
           "zaxis": {
            "backgroundcolor": "#E5ECF6",
            "gridcolor": "white",
            "gridwidth": 2,
            "linecolor": "white",
            "showbackground": true,
            "ticks": "",
            "zerolinecolor": "white"
           }
          },
          "shapedefaults": {
           "line": {
            "color": "#2a3f5f"
           }
          },
          "ternary": {
           "aaxis": {
            "gridcolor": "white",
            "linecolor": "white",
            "ticks": ""
           },
           "baxis": {
            "gridcolor": "white",
            "linecolor": "white",
            "ticks": ""
           },
           "bgcolor": "#E5ECF6",
           "caxis": {
            "gridcolor": "white",
            "linecolor": "white",
            "ticks": ""
           }
          },
          "title": {
           "x": 0.05
          },
          "xaxis": {
           "automargin": true,
           "gridcolor": "white",
           "linecolor": "white",
           "ticks": "",
           "title": {
            "standoff": 15
           },
           "zerolinecolor": "white",
           "zerolinewidth": 2
          },
          "yaxis": {
           "automargin": true,
           "gridcolor": "white",
           "linecolor": "white",
           "ticks": "",
           "title": {
            "standoff": 15
           },
           "zerolinecolor": "white",
           "zerolinewidth": 2
          }
         }
        },
        "width": 1000,
        "xaxis": {
         "anchor": "y",
         "domain": [
          0,
          0.45
         ],
         "title": {
          "text": "Cores"
         }
        },
        "xaxis2": {
         "anchor": "y2",
         "domain": [
          0.55,
          1
         ],
         "title": {
          "text": "Cores"
         }
        },
        "xaxis3": {
         "anchor": "y3",
         "domain": [
          0,
          0.45
         ],
         "title": {
          "text": "Cores"
         }
        },
        "xaxis4": {
         "anchor": "y4",
         "domain": [
          0.55,
          1
         ],
         "title": {
          "text": "Cores"
         }
        },
        "xaxis5": {
         "anchor": "y5",
         "domain": [
          0,
          0.45
         ],
         "title": {
          "text": "Cores"
         }
        },
        "xaxis6": {
         "anchor": "y6",
         "domain": [
          0.55,
          1
         ],
         "title": {
          "text": "Cores"
         }
        },
        "yaxis": {
         "anchor": "x",
         "domain": [
          0.7333333333333333,
          1
         ],
         "title": {
          "text": "Tiempo de ejecución"
         }
        },
        "yaxis2": {
         "anchor": "x2",
         "domain": [
          0.7333333333333333,
          1
         ],
         "title": {
          "text": "Tiempo de ejecución"
         }
        },
        "yaxis3": {
         "anchor": "x3",
         "domain": [
          0.36666666666666664,
          0.6333333333333333
         ],
         "title": {
          "text": "Tiempo de ejecución"
         }
        },
        "yaxis4": {
         "anchor": "x4",
         "domain": [
          0.36666666666666664,
          0.6333333333333333
         ],
         "title": {
          "text": "Tiempo de ejecución"
         }
        },
        "yaxis5": {
         "anchor": "x5",
         "domain": [
          0,
          0.26666666666666666
         ],
         "title": {
          "text": "Tiempo de ejecución"
         }
        },
        "yaxis6": {
         "anchor": "x6",
         "domain": [
          0,
          0.26666666666666666
         ],
         "title": {
          "text": "Tiempo de ejecución"
         }
        }
       }
      }
     },
     "metadata": {},
     "output_type": "display_data"
    }
   ],
   "source": [
    "fig = make_subplots(rows=3, cols=2)\n",
    "for i, n_value in enumerate(comparacion_prueba2['N'].unique()):\n",
    "    color = colors[i % len(colors)]  # Seleccionar un color de la paleta\n",
    "    # Gráficas sobre la maquina 1\n",
    "    fig.add_trace(go.Scatter(x=comparacion_prueba1[comparacion_prueba1['N'] == n_value]['CORES'], \n",
    "                             y=comparacion_prueba1[comparacion_prueba1['N'] == n_value]['TIEMPO_EJECUCION_x'], mode='lines+markers', name=f'N={n_value}', line=dict(color=color), showlegend=True, legendgroup=f\"N={n_value}\"), row=1, col=1)\n",
    "    fig.add_trace(go.Scatter(x=comparacion_prueba1[comparacion_prueba1['N'] == n_value]['CORES'], \n",
    "                             y=comparacion_prueba1[comparacion_prueba1['N'] == n_value]['TIEMPO_EJECUCION_y'], mode='lines+markers', name=f'N={n_value}', line=dict(color=color), showlegend=True, legendgroup=f\"N={n_value}\"), row=1, col=2)\n",
    "    # Gráficas sobre la maquina 2\n",
    "    fig.add_trace(go.Scatter(x=comparacion_prueba2[comparacion_prueba2['N'] == n_value]['CORES'], \n",
    "                             y=comparacion_prueba2[comparacion_prueba2['N'] == n_value]['TIEMPO_EJECUCION_x'], mode='lines+markers', name=f'N={n_value}', line=dict(color=color), showlegend=True, legendgroup=f\"N={n_value}\"), row=2, col=1)\n",
    "    fig.add_trace(go.Scatter(x=comparacion_prueba2[comparacion_prueba2['N'] == n_value]['CORES'], \n",
    "                             y=comparacion_prueba2[comparacion_prueba2['N'] == n_value]['TIEMPO_EJECUCION_y'], mode='lines+markers', name=f'N={n_value}', line=dict(color=color), showlegend=True, legendgroup=f\"N={n_value}\"), row=2, col=2)\n",
    "    # Gráficas sobre la maquina 3\n",
    "    fig.add_trace(go.Scatter(x=comparacion_prueba3[comparacion_prueba3['N'] == n_value]['CORES'], \n",
    "                             y=comparacion_prueba3[comparacion_prueba3['N'] == n_value]['TIEMPO_EJECUCION_x'], mode='lines+markers', name=f'N={n_value}', line=dict(color=color), showlegend=True, legendgroup=f\"N={n_value}\"), row=3, col=1)\n",
    "    fig.add_trace(go.Scatter(x=comparacion_prueba3[comparacion_prueba3['N'] == n_value]['CORES'], \n",
    "                             y=comparacion_prueba3[comparacion_prueba3['N'] == n_value]['TIEMPO_EJECUCION_y'], mode='lines+markers', name=f'N={n_value}', line=dict(color=color), showlegend=True, legendgroup=f\"N={n_value}\"), row=3, col=2)\n",
    "\n",
    "# Actualizar el diseño del gráfico\n",
    "fig.update_xaxes(title_text=\"Cores\", row=1, col=1)\n",
    "fig.update_yaxes(title_text=\"Tiempo de ejecución\", row=1, col=1)\n",
    "\n",
    "fig.update_xaxes(title_text=\"Cores\", row=1, col=2)\n",
    "fig.update_yaxes(title_text=\"Tiempo de ejecución\", row=1, col=2)\n",
    "\n",
    "fig.update_xaxes(title_text=\"Cores\", row=2, col=1)\n",
    "fig.update_yaxes(title_text=\"Tiempo de ejecución\", row=2, col=1)\n",
    "\n",
    "fig.update_xaxes(title_text=\"Cores\", row=2, col=2)\n",
    "fig.update_yaxes(title_text=\"Tiempo de ejecución\", row=2, col=2)\n",
    "\n",
    "fig.update_xaxes(title_text=\"Cores\", row=3, col=1)\n",
    "fig.update_yaxes(title_text=\"Tiempo de ejecución\", row=3, col=1)\n",
    "\n",
    "fig.update_xaxes(title_text=\"Cores\", row=3, col=2)\n",
    "fig.update_yaxes(title_text=\"Tiempo de ejecución\", row=3, col=2)\n",
    "\n",
    "fig.update_layout(annotations=[\n",
    "    dict(text=\"Filas x Columnas\", x=0.18, y=1.1, xref=\"paper\", yref=\"paper\", showarrow=False, font=dict(size=20)),\n",
    "    dict(text=\"Filas x Filas\", x=0.825, y=1.1, xref=\"paper\", yref=\"paper\", showarrow=False, font=dict(size=20))\n",
    "])\n",
    "\n",
    "fig.update_layout(height=800, width=1000)\n",
    "# Mostrar el gráfico\n",
    "fig.show()"
   ]
  },
  {
   "cell_type": "markdown",
   "metadata": {},
   "source": [
    "Finalmente, graficaremos la eficiencia"
   ]
  },
  {
   "cell_type": "code",
   "execution_count": 69,
   "metadata": {},
   "outputs": [
    {
     "data": {
      "application/vnd.plotly.v1+json": {
       "config": {
        "plotlyServerURL": "https://plot.ly"
       },
       "data": [
        {
         "legendgroup": "N=100",
         "line": {
          "color": "blue"
         },
         "mode": "lines+markers",
         "name": "N=100",
         "showlegend": true,
         "type": "scatter",
         "x": [
          1,
          2,
          3,
          4,
          5,
          6,
          7,
          8
         ],
         "xaxis": "x",
         "y": [
          0.18994953569002035,
          0.16788298298633894,
          0.3333333333333333,
          0.0686370792944135,
          0.12275313857746761,
          0.05636870020055795,
          0.07739250352491008,
          0.0498550573133417
         ],
         "yaxis": "y"
        },
        {
         "legendgroup": "N=100",
         "line": {
          "color": "blue"
         },
         "mode": "lines+markers",
         "name": "N=100",
         "showlegend": true,
         "type": "scatter",
         "x": [
          1,
          2,
          3,
          4,
          5,
          6,
          7,
          8
         ],
         "xaxis": "x2",
         "y": [
          0.017594942918991132,
          0.014741373141643102,
          0.3333333333333333,
          0.006299994147777849,
          0.01621787033285883,
          0.005923575272086975,
          0.009420639046686368,
          0.006569396400823512
         ],
         "yaxis": "y2"
        },
        {
         "legendgroup": "N=100",
         "line": {
          "color": "blue"
         },
         "mode": "lines+markers",
         "name": "N=100",
         "showlegend": true,
         "type": "scatter",
         "x": [
          1,
          2,
          3,
          4,
          5,
          6,
          7,
          8
         ],
         "xaxis": "x3",
         "y": [
          0.33694003913892756,
          0.2979998799113923,
          0.3333333333333333,
          0.12527256367092096,
          0.14078392274548707,
          0.10742457013800122,
          0.13366787945963968,
          0.12473138846776896
         ],
         "yaxis": "y3"
        },
        {
         "legendgroup": "N=100",
         "line": {
          "color": "blue"
         },
         "mode": "lines+markers",
         "name": "N=100",
         "showlegend": true,
         "type": "scatter",
         "x": [
          1,
          2,
          3,
          4,
          5,
          6,
          7,
          8
         ],
         "xaxis": "x4",
         "y": [
          0.03022686369894935,
          0.025069565386169498,
          0.3333333333333333,
          0.01074981425071538,
          0.0267599930311292,
          0.010043786817439228,
          0.01563468037366311,
          0.011039432789432788
         ],
         "yaxis": "y4"
        },
        {
         "legendgroup": "N=100",
         "line": {
          "color": "blue"
         },
         "mode": "lines+markers",
         "name": "N=100",
         "showlegend": true,
         "type": "scatter",
         "x": [
          1,
          2,
          3,
          4,
          5,
          6,
          7,
          8
         ],
         "xaxis": "x5",
         "y": [
          0.349663736544893,
          0.30445350433723106,
          0.3307954469323848,
          0.13018189710777206,
          0.1442776854830158,
          0.11112450160734356,
          0.13475839785888166,
          0.125
         ],
         "yaxis": "y5"
        },
        {
         "legendgroup": "N=100",
         "line": {
          "color": "blue"
         },
         "mode": "lines+markers",
         "name": "N=100",
         "showlegend": true,
         "type": "scatter",
         "x": [
          1,
          2,
          3,
          4,
          5,
          6,
          7,
          8
         ],
         "xaxis": "x6",
         "y": [
          0.03022686369894935,
          0.025069565386169498,
          0.3333333333333333,
          0.01074981425071538,
          0.0267599930311292,
          0.010043786817439228,
          0.01563468037366311,
          0.011039432789432788
         ],
         "yaxis": "y6"
        },
        {
         "legendgroup": "N=200",
         "line": {
          "color": "red"
         },
         "mode": "lines+markers",
         "name": "N=200",
         "showlegend": true,
         "type": "scatter",
         "x": [
          1,
          2,
          3,
          4,
          5,
          6,
          7,
          8
         ],
         "xaxis": "x",
         "y": [
          0.5554045894825559,
          0.3028272254574663,
          0.22415084582863734,
          0.16290819249498711,
          0.1490008750694292,
          0.15308123382503203,
          0.14285714285714285,
          0.11942770460250998
         ],
         "yaxis": "y"
        },
        {
         "legendgroup": "N=200",
         "line": {
          "color": "red"
         },
         "mode": "lines+markers",
         "name": "N=200",
         "showlegend": true,
         "type": "scatter",
         "x": [
          1,
          2,
          3,
          4,
          5,
          6,
          7,
          8
         ],
         "xaxis": "x2",
         "y": [
          1,
          0.467824999727117,
          0.29736819084213245,
          0.20208246943736893,
          0.15362373806840582,
          0.11547919201766078,
          0.09053449038054473,
          0.08707585879013614
         ],
         "yaxis": "y2"
        },
        {
         "legendgroup": "N=200",
         "line": {
          "color": "red"
         },
         "mode": "lines+markers",
         "name": "N=200",
         "showlegend": true,
         "type": "scatter",
         "x": [
          1,
          2,
          3,
          4,
          5,
          6,
          7,
          8
         ],
         "xaxis": "x3",
         "y": [
          0.7935106632593193,
          0.43775508977410094,
          0.3333333333333333,
          0.20406419606190054,
          0.16549475977993616,
          0.12757527020411558,
          0.12158834438374029,
          0.10578485989596703
         ],
         "yaxis": "y3"
        },
        {
         "legendgroup": "N=200",
         "line": {
          "color": "red"
         },
         "mode": "lines+markers",
         "name": "N=200",
         "showlegend": true,
         "type": "scatter",
         "x": [
          1,
          2,
          3,
          4,
          5,
          6,
          7,
          8
         ],
         "xaxis": "x4",
         "y": [
          1,
          0.4678195290541206,
          0.29739593832370814,
          0.20215403843194424,
          0.15375799219954225,
          0.11559479770765498,
          0.09062750902975879,
          0.08715365944172287
         ],
         "yaxis": "y4"
        },
        {
         "legendgroup": "N=200",
         "line": {
          "color": "red"
         },
         "mode": "lines+markers",
         "name": "N=200",
         "showlegend": true,
         "type": "scatter",
         "x": [
          1,
          2,
          3,
          4,
          5,
          6,
          7,
          8
         ],
         "xaxis": "x5",
         "y": [
          0.7904380702570075,
          0.43780887449454264,
          0.3333333333333333,
          0.20519386720983113,
          0.16648602907927487,
          0.12853261911471417,
          0.12229302968070496,
          0.1061341139183254
         ],
         "yaxis": "y5"
        },
        {
         "legendgroup": "N=200",
         "line": {
          "color": "red"
         },
         "mode": "lines+markers",
         "name": "N=200",
         "showlegend": true,
         "type": "scatter",
         "x": [
          1,
          2,
          3,
          4,
          5,
          6,
          7,
          8
         ],
         "xaxis": "x6",
         "y": [
          1,
          0.4678195290541206,
          0.29739593832370814,
          0.20215403843194424,
          0.15375799219954225,
          0.11559479770765498,
          0.09062750902975879,
          0.08715365944172287
         ],
         "yaxis": "y6"
        },
        {
         "legendgroup": "N=300",
         "line": {
          "color": "green"
         },
         "mode": "lines+markers",
         "name": "N=300",
         "showlegend": true,
         "type": "scatter",
         "x": [
          1,
          2,
          3,
          4,
          5,
          6,
          7,
          8
         ],
         "xaxis": "x",
         "y": [
          0.7173540505156302,
          0.39036594972419925,
          0.26155811121601885,
          0.18108675746134031,
          0.15222495430091293,
          0.13055028322548173,
          0.12082787396566322,
          0.125
         ],
         "yaxis": "y"
        },
        {
         "legendgroup": "N=300",
         "line": {
          "color": "green"
         },
         "mode": "lines+markers",
         "name": "N=300",
         "showlegend": true,
         "type": "scatter",
         "x": [
          1,
          2,
          3,
          4,
          5,
          6,
          7,
          8
         ],
         "xaxis": "x2",
         "y": [
          1,
          0.4604891037230749,
          0.2858508131064049,
          0.19355266566182128,
          0.14680538750223313,
          0.1123088844838927,
          0.08955409201348898,
          0.07060053118712355
         ],
         "yaxis": "y2"
        },
        {
         "legendgroup": "N=300",
         "line": {
          "color": "green"
         },
         "mode": "lines+markers",
         "name": "N=300",
         "showlegend": true,
         "type": "scatter",
         "x": [
          1,
          2,
          3,
          4,
          5,
          6,
          7,
          8
         ],
         "xaxis": "x3",
         "y": [
          0.8797576207010559,
          0.4881097735756364,
          0.3333333333333333,
          0.2373292680210705,
          0.19074772055358355,
          0.14771848370342872,
          0.12290275197756818,
          0.10716150884477729
         ],
         "yaxis": "y3"
        },
        {
         "legendgroup": "N=300",
         "line": {
          "color": "green"
         },
         "mode": "lines+markers",
         "name": "N=300",
         "showlegend": true,
         "type": "scatter",
         "x": [
          1,
          2,
          3,
          4,
          5,
          6,
          7,
          8
         ],
         "xaxis": "x4",
         "y": [
          1,
          0.4605262600682151,
          0.28590335985357673,
          0.1936408912171467,
          0.14691054362272732,
          0.1124021163079551,
          0.0896309028746327,
          0.0706635264792845
         ],
         "yaxis": "y4"
        },
        {
         "legendgroup": "N=300",
         "line": {
          "color": "green"
         },
         "mode": "lines+markers",
         "name": "N=300",
         "showlegend": true,
         "type": "scatter",
         "x": [
          1,
          2,
          3,
          4,
          5,
          6,
          7,
          8
         ],
         "xaxis": "x5",
         "y": [
          0.8737037498546723,
          0.48684896966403984,
          0.3333333333333333,
          0.2380631742332333,
          0.19151471336190173,
          0.14857128835698089,
          0.12357941877513232,
          0.10754377037263103
         ],
         "yaxis": "y5"
        },
        {
         "legendgroup": "N=300",
         "line": {
          "color": "green"
         },
         "mode": "lines+markers",
         "name": "N=300",
         "showlegend": true,
         "type": "scatter",
         "x": [
          1,
          2,
          3,
          4,
          5,
          6,
          7,
          8
         ],
         "xaxis": "x6",
         "y": [
          1,
          0.4605262600682151,
          0.28590335985357673,
          0.1936408912171467,
          0.14691054362272732,
          0.1124021163079551,
          0.0896309028746327,
          0.0706635264792845
         ],
         "yaxis": "y6"
        },
        {
         "legendgroup": "N=400",
         "line": {
          "color": "orange"
         },
         "mode": "lines+markers",
         "name": "N=400",
         "showlegend": true,
         "type": "scatter",
         "x": [
          1,
          2,
          3,
          4,
          5,
          6,
          7,
          8
         ],
         "xaxis": "x",
         "y": [
          0.8410651334659778,
          0.45704896148783886,
          0.3333333333333333,
          0.23790892228587554,
          0.18729313836446887,
          0.14722699552095997,
          0.12948013292670654,
          0.10908293021137205
         ],
         "yaxis": "y"
        },
        {
         "legendgroup": "N=400",
         "line": {
          "color": "orange"
         },
         "mode": "lines+markers",
         "name": "N=400",
         "showlegend": true,
         "type": "scatter",
         "x": [
          1,
          2,
          3,
          4,
          5,
          6,
          7,
          8
         ],
         "xaxis": "x2",
         "y": [
          1,
          0.4570916893726357,
          0.27974438377091565,
          0.19100703785734252,
          0.14131306763796234,
          0.10896271722608114,
          0.08696967941719258,
          0.07052993327004611
         ],
         "yaxis": "y2"
        },
        {
         "legendgroup": "N=400",
         "line": {
          "color": "orange"
         },
         "mode": "lines+markers",
         "name": "N=400",
         "showlegend": true,
         "type": "scatter",
         "x": [
          1,
          2,
          3,
          4,
          5,
          6,
          7,
          8
         ],
         "xaxis": "x3",
         "y": [
          0.83018548837253,
          0.4538294773614174,
          0.30338342973985183,
          0.2264721886261669,
          0.19179245515966575,
          0.16666666666666666,
          0.13916706224638753,
          0.11081725020816578
         ],
         "yaxis": "y3"
        },
        {
         "legendgroup": "N=400",
         "line": {
          "color": "orange"
         },
         "mode": "lines+markers",
         "name": "N=400",
         "showlegend": true,
         "type": "scatter",
         "x": [
          1,
          2,
          3,
          4,
          5,
          6,
          7,
          8
         ],
         "xaxis": "x4",
         "y": [
          1,
          0.45711393221345126,
          0.27976784587741416,
          0.19105328118422568,
          0.14138075396597405,
          0.10902341916297013,
          0.08701834524243832,
          0.07056989926699132
         ],
         "yaxis": "y4"
        },
        {
         "legendgroup": "N=400",
         "line": {
          "color": "orange"
         },
         "mode": "lines+markers",
         "name": "N=400",
         "showlegend": true,
         "type": "scatter",
         "x": [
          1,
          2,
          3,
          4,
          5,
          6,
          7,
          8
         ],
         "xaxis": "x5",
         "y": [
          0.818387843125653,
          0.4502596088258322,
          0.30231353549608075,
          0.22628955044783294,
          0.19174661471036164,
          0.16666666666666666,
          0.1393230078596261,
          0.11114780479632873
         ],
         "yaxis": "y5"
        },
        {
         "legendgroup": "N=400",
         "line": {
          "color": "orange"
         },
         "mode": "lines+markers",
         "name": "N=400",
         "showlegend": true,
         "type": "scatter",
         "x": [
          1,
          2,
          3,
          4,
          5,
          6,
          7,
          8
         ],
         "xaxis": "x6",
         "y": [
          1,
          0.45711393221345126,
          0.27976784587741416,
          0.19105328118422568,
          0.14138075396597405,
          0.10902341916297013,
          0.08701834524243832,
          0.07056989926699132
         ],
         "yaxis": "y6"
        },
        {
         "legendgroup": "N=500",
         "line": {
          "color": "purple"
         },
         "mode": "lines+markers",
         "name": "N=500",
         "showlegend": true,
         "type": "scatter",
         "x": [
          1,
          2,
          3,
          4,
          5,
          6,
          7,
          8
         ],
         "xaxis": "x",
         "y": [
          0.9004615108873599,
          0.47326171341464623,
          0.3333333333333333,
          0.24110729330713154,
          0.19157920729904193,
          0.16063975117467538,
          0.14051407926776813,
          0.1196482249005303
         ],
         "yaxis": "y"
        },
        {
         "legendgroup": "N=500",
         "line": {
          "color": "purple"
         },
         "mode": "lines+markers",
         "name": "N=500",
         "showlegend": true,
         "type": "scatter",
         "x": [
          1,
          2,
          3,
          4,
          5,
          6,
          7,
          8
         ],
         "xaxis": "x2",
         "y": [
          1,
          0.4580914715417476,
          0.28019659086528775,
          0.1921301807616067,
          0.14180862669218325,
          0.10895038850387313,
          0.08622548505270643,
          0.07051812567467924
         ],
         "yaxis": "y2"
        },
        {
         "legendgroup": "N=500",
         "line": {
          "color": "purple"
         },
         "mode": "lines+markers",
         "name": "N=500",
         "showlegend": true,
         "type": "scatter",
         "x": [
          1,
          2,
          3,
          4,
          5,
          6,
          7,
          8
         ],
         "xaxis": "x3",
         "y": [
          0.8966734225281539,
          0.47779310558044435,
          0.32215835086339334,
          0.24139225344866444,
          0.2,
          0.160613093286422,
          0.13666321396725462,
          0.11885904588722242
         ],
         "yaxis": "y3"
        },
        {
         "legendgroup": "N=500",
         "line": {
          "color": "purple"
         },
         "mode": "lines+markers",
         "name": "N=500",
         "showlegend": true,
         "type": "scatter",
         "x": [
          1,
          2,
          3,
          4,
          5,
          6,
          7,
          8
         ],
         "xaxis": "x4",
         "y": [
          1,
          0.4581664343207899,
          0.28028020047979946,
          0.19222738195281852,
          0.14193528187603924,
          0.10906993427969658,
          0.08632625398054158,
          0.07059609789924173
         ],
         "yaxis": "y4"
        },
        {
         "legendgroup": "N=500",
         "line": {
          "color": "purple"
         },
         "mode": "lines+markers",
         "name": "N=500",
         "showlegend": true,
         "type": "scatter",
         "x": [
          1,
          2,
          3,
          4,
          5,
          6,
          7,
          8
         ],
         "xaxis": "x5",
         "y": [
          0.8795620800101247,
          0.4732328672962934,
          0.32070438299907705,
          0.2411179181367415,
          0.2,
          0.1612256670816438,
          0.13737478941837514,
          0.1195901001019029
         ],
         "yaxis": "y5"
        },
        {
         "legendgroup": "N=500",
         "line": {
          "color": "purple"
         },
         "mode": "lines+markers",
         "name": "N=500",
         "showlegend": true,
         "type": "scatter",
         "x": [
          1,
          2,
          3,
          4,
          5,
          6,
          7,
          8
         ],
         "xaxis": "x6",
         "y": [
          1,
          0.4581664343207899,
          0.28028020047979946,
          0.19222738195281852,
          0.14193528187603924,
          0.10906993427969658,
          0.08632625398054158,
          0.07059609789924173
         ],
         "yaxis": "y6"
        }
       ],
       "layout": {
        "annotations": [
         {
          "font": {
           "size": 20
          },
          "showarrow": false,
          "text": "Filas x Columnas",
          "x": 0.18,
          "xref": "paper",
          "y": 1.1,
          "yref": "paper"
         },
         {
          "font": {
           "size": 20
          },
          "showarrow": false,
          "text": "Filas x Filas",
          "x": 0.825,
          "xref": "paper",
          "y": 1.1,
          "yref": "paper"
         }
        ],
        "height": 800,
        "template": {
         "data": {
          "bar": [
           {
            "error_x": {
             "color": "#2a3f5f"
            },
            "error_y": {
             "color": "#2a3f5f"
            },
            "marker": {
             "line": {
              "color": "#E5ECF6",
              "width": 0.5
             },
             "pattern": {
              "fillmode": "overlay",
              "size": 10,
              "solidity": 0.2
             }
            },
            "type": "bar"
           }
          ],
          "barpolar": [
           {
            "marker": {
             "line": {
              "color": "#E5ECF6",
              "width": 0.5
             },
             "pattern": {
              "fillmode": "overlay",
              "size": 10,
              "solidity": 0.2
             }
            },
            "type": "barpolar"
           }
          ],
          "carpet": [
           {
            "aaxis": {
             "endlinecolor": "#2a3f5f",
             "gridcolor": "white",
             "linecolor": "white",
             "minorgridcolor": "white",
             "startlinecolor": "#2a3f5f"
            },
            "baxis": {
             "endlinecolor": "#2a3f5f",
             "gridcolor": "white",
             "linecolor": "white",
             "minorgridcolor": "white",
             "startlinecolor": "#2a3f5f"
            },
            "type": "carpet"
           }
          ],
          "choropleth": [
           {
            "colorbar": {
             "outlinewidth": 0,
             "ticks": ""
            },
            "type": "choropleth"
           }
          ],
          "contour": [
           {
            "colorbar": {
             "outlinewidth": 0,
             "ticks": ""
            },
            "colorscale": [
             [
              0,
              "#0d0887"
             ],
             [
              0.1111111111111111,
              "#46039f"
             ],
             [
              0.2222222222222222,
              "#7201a8"
             ],
             [
              0.3333333333333333,
              "#9c179e"
             ],
             [
              0.4444444444444444,
              "#bd3786"
             ],
             [
              0.5555555555555556,
              "#d8576b"
             ],
             [
              0.6666666666666666,
              "#ed7953"
             ],
             [
              0.7777777777777778,
              "#fb9f3a"
             ],
             [
              0.8888888888888888,
              "#fdca26"
             ],
             [
              1,
              "#f0f921"
             ]
            ],
            "type": "contour"
           }
          ],
          "contourcarpet": [
           {
            "colorbar": {
             "outlinewidth": 0,
             "ticks": ""
            },
            "type": "contourcarpet"
           }
          ],
          "heatmap": [
           {
            "colorbar": {
             "outlinewidth": 0,
             "ticks": ""
            },
            "colorscale": [
             [
              0,
              "#0d0887"
             ],
             [
              0.1111111111111111,
              "#46039f"
             ],
             [
              0.2222222222222222,
              "#7201a8"
             ],
             [
              0.3333333333333333,
              "#9c179e"
             ],
             [
              0.4444444444444444,
              "#bd3786"
             ],
             [
              0.5555555555555556,
              "#d8576b"
             ],
             [
              0.6666666666666666,
              "#ed7953"
             ],
             [
              0.7777777777777778,
              "#fb9f3a"
             ],
             [
              0.8888888888888888,
              "#fdca26"
             ],
             [
              1,
              "#f0f921"
             ]
            ],
            "type": "heatmap"
           }
          ],
          "heatmapgl": [
           {
            "colorbar": {
             "outlinewidth": 0,
             "ticks": ""
            },
            "colorscale": [
             [
              0,
              "#0d0887"
             ],
             [
              0.1111111111111111,
              "#46039f"
             ],
             [
              0.2222222222222222,
              "#7201a8"
             ],
             [
              0.3333333333333333,
              "#9c179e"
             ],
             [
              0.4444444444444444,
              "#bd3786"
             ],
             [
              0.5555555555555556,
              "#d8576b"
             ],
             [
              0.6666666666666666,
              "#ed7953"
             ],
             [
              0.7777777777777778,
              "#fb9f3a"
             ],
             [
              0.8888888888888888,
              "#fdca26"
             ],
             [
              1,
              "#f0f921"
             ]
            ],
            "type": "heatmapgl"
           }
          ],
          "histogram": [
           {
            "marker": {
             "pattern": {
              "fillmode": "overlay",
              "size": 10,
              "solidity": 0.2
             }
            },
            "type": "histogram"
           }
          ],
          "histogram2d": [
           {
            "colorbar": {
             "outlinewidth": 0,
             "ticks": ""
            },
            "colorscale": [
             [
              0,
              "#0d0887"
             ],
             [
              0.1111111111111111,
              "#46039f"
             ],
             [
              0.2222222222222222,
              "#7201a8"
             ],
             [
              0.3333333333333333,
              "#9c179e"
             ],
             [
              0.4444444444444444,
              "#bd3786"
             ],
             [
              0.5555555555555556,
              "#d8576b"
             ],
             [
              0.6666666666666666,
              "#ed7953"
             ],
             [
              0.7777777777777778,
              "#fb9f3a"
             ],
             [
              0.8888888888888888,
              "#fdca26"
             ],
             [
              1,
              "#f0f921"
             ]
            ],
            "type": "histogram2d"
           }
          ],
          "histogram2dcontour": [
           {
            "colorbar": {
             "outlinewidth": 0,
             "ticks": ""
            },
            "colorscale": [
             [
              0,
              "#0d0887"
             ],
             [
              0.1111111111111111,
              "#46039f"
             ],
             [
              0.2222222222222222,
              "#7201a8"
             ],
             [
              0.3333333333333333,
              "#9c179e"
             ],
             [
              0.4444444444444444,
              "#bd3786"
             ],
             [
              0.5555555555555556,
              "#d8576b"
             ],
             [
              0.6666666666666666,
              "#ed7953"
             ],
             [
              0.7777777777777778,
              "#fb9f3a"
             ],
             [
              0.8888888888888888,
              "#fdca26"
             ],
             [
              1,
              "#f0f921"
             ]
            ],
            "type": "histogram2dcontour"
           }
          ],
          "mesh3d": [
           {
            "colorbar": {
             "outlinewidth": 0,
             "ticks": ""
            },
            "type": "mesh3d"
           }
          ],
          "parcoords": [
           {
            "line": {
             "colorbar": {
              "outlinewidth": 0,
              "ticks": ""
             }
            },
            "type": "parcoords"
           }
          ],
          "pie": [
           {
            "automargin": true,
            "type": "pie"
           }
          ],
          "scatter": [
           {
            "fillpattern": {
             "fillmode": "overlay",
             "size": 10,
             "solidity": 0.2
            },
            "type": "scatter"
           }
          ],
          "scatter3d": [
           {
            "line": {
             "colorbar": {
              "outlinewidth": 0,
              "ticks": ""
             }
            },
            "marker": {
             "colorbar": {
              "outlinewidth": 0,
              "ticks": ""
             }
            },
            "type": "scatter3d"
           }
          ],
          "scattercarpet": [
           {
            "marker": {
             "colorbar": {
              "outlinewidth": 0,
              "ticks": ""
             }
            },
            "type": "scattercarpet"
           }
          ],
          "scattergeo": [
           {
            "marker": {
             "colorbar": {
              "outlinewidth": 0,
              "ticks": ""
             }
            },
            "type": "scattergeo"
           }
          ],
          "scattergl": [
           {
            "marker": {
             "colorbar": {
              "outlinewidth": 0,
              "ticks": ""
             }
            },
            "type": "scattergl"
           }
          ],
          "scattermapbox": [
           {
            "marker": {
             "colorbar": {
              "outlinewidth": 0,
              "ticks": ""
             }
            },
            "type": "scattermapbox"
           }
          ],
          "scatterpolar": [
           {
            "marker": {
             "colorbar": {
              "outlinewidth": 0,
              "ticks": ""
             }
            },
            "type": "scatterpolar"
           }
          ],
          "scatterpolargl": [
           {
            "marker": {
             "colorbar": {
              "outlinewidth": 0,
              "ticks": ""
             }
            },
            "type": "scatterpolargl"
           }
          ],
          "scatterternary": [
           {
            "marker": {
             "colorbar": {
              "outlinewidth": 0,
              "ticks": ""
             }
            },
            "type": "scatterternary"
           }
          ],
          "surface": [
           {
            "colorbar": {
             "outlinewidth": 0,
             "ticks": ""
            },
            "colorscale": [
             [
              0,
              "#0d0887"
             ],
             [
              0.1111111111111111,
              "#46039f"
             ],
             [
              0.2222222222222222,
              "#7201a8"
             ],
             [
              0.3333333333333333,
              "#9c179e"
             ],
             [
              0.4444444444444444,
              "#bd3786"
             ],
             [
              0.5555555555555556,
              "#d8576b"
             ],
             [
              0.6666666666666666,
              "#ed7953"
             ],
             [
              0.7777777777777778,
              "#fb9f3a"
             ],
             [
              0.8888888888888888,
              "#fdca26"
             ],
             [
              1,
              "#f0f921"
             ]
            ],
            "type": "surface"
           }
          ],
          "table": [
           {
            "cells": {
             "fill": {
              "color": "#EBF0F8"
             },
             "line": {
              "color": "white"
             }
            },
            "header": {
             "fill": {
              "color": "#C8D4E3"
             },
             "line": {
              "color": "white"
             }
            },
            "type": "table"
           }
          ]
         },
         "layout": {
          "annotationdefaults": {
           "arrowcolor": "#2a3f5f",
           "arrowhead": 0,
           "arrowwidth": 1
          },
          "autotypenumbers": "strict",
          "coloraxis": {
           "colorbar": {
            "outlinewidth": 0,
            "ticks": ""
           }
          },
          "colorscale": {
           "diverging": [
            [
             0,
             "#8e0152"
            ],
            [
             0.1,
             "#c51b7d"
            ],
            [
             0.2,
             "#de77ae"
            ],
            [
             0.3,
             "#f1b6da"
            ],
            [
             0.4,
             "#fde0ef"
            ],
            [
             0.5,
             "#f7f7f7"
            ],
            [
             0.6,
             "#e6f5d0"
            ],
            [
             0.7,
             "#b8e186"
            ],
            [
             0.8,
             "#7fbc41"
            ],
            [
             0.9,
             "#4d9221"
            ],
            [
             1,
             "#276419"
            ]
           ],
           "sequential": [
            [
             0,
             "#0d0887"
            ],
            [
             0.1111111111111111,
             "#46039f"
            ],
            [
             0.2222222222222222,
             "#7201a8"
            ],
            [
             0.3333333333333333,
             "#9c179e"
            ],
            [
             0.4444444444444444,
             "#bd3786"
            ],
            [
             0.5555555555555556,
             "#d8576b"
            ],
            [
             0.6666666666666666,
             "#ed7953"
            ],
            [
             0.7777777777777778,
             "#fb9f3a"
            ],
            [
             0.8888888888888888,
             "#fdca26"
            ],
            [
             1,
             "#f0f921"
            ]
           ],
           "sequentialminus": [
            [
             0,
             "#0d0887"
            ],
            [
             0.1111111111111111,
             "#46039f"
            ],
            [
             0.2222222222222222,
             "#7201a8"
            ],
            [
             0.3333333333333333,
             "#9c179e"
            ],
            [
             0.4444444444444444,
             "#bd3786"
            ],
            [
             0.5555555555555556,
             "#d8576b"
            ],
            [
             0.6666666666666666,
             "#ed7953"
            ],
            [
             0.7777777777777778,
             "#fb9f3a"
            ],
            [
             0.8888888888888888,
             "#fdca26"
            ],
            [
             1,
             "#f0f921"
            ]
           ]
          },
          "colorway": [
           "#636efa",
           "#EF553B",
           "#00cc96",
           "#ab63fa",
           "#FFA15A",
           "#19d3f3",
           "#FF6692",
           "#B6E880",
           "#FF97FF",
           "#FECB52"
          ],
          "font": {
           "color": "#2a3f5f"
          },
          "geo": {
           "bgcolor": "white",
           "lakecolor": "white",
           "landcolor": "#E5ECF6",
           "showlakes": true,
           "showland": true,
           "subunitcolor": "white"
          },
          "hoverlabel": {
           "align": "left"
          },
          "hovermode": "closest",
          "mapbox": {
           "style": "light"
          },
          "paper_bgcolor": "white",
          "plot_bgcolor": "#E5ECF6",
          "polar": {
           "angularaxis": {
            "gridcolor": "white",
            "linecolor": "white",
            "ticks": ""
           },
           "bgcolor": "#E5ECF6",
           "radialaxis": {
            "gridcolor": "white",
            "linecolor": "white",
            "ticks": ""
           }
          },
          "scene": {
           "xaxis": {
            "backgroundcolor": "#E5ECF6",
            "gridcolor": "white",
            "gridwidth": 2,
            "linecolor": "white",
            "showbackground": true,
            "ticks": "",
            "zerolinecolor": "white"
           },
           "yaxis": {
            "backgroundcolor": "#E5ECF6",
            "gridcolor": "white",
            "gridwidth": 2,
            "linecolor": "white",
            "showbackground": true,
            "ticks": "",
            "zerolinecolor": "white"
           },
           "zaxis": {
            "backgroundcolor": "#E5ECF6",
            "gridcolor": "white",
            "gridwidth": 2,
            "linecolor": "white",
            "showbackground": true,
            "ticks": "",
            "zerolinecolor": "white"
           }
          },
          "shapedefaults": {
           "line": {
            "color": "#2a3f5f"
           }
          },
          "ternary": {
           "aaxis": {
            "gridcolor": "white",
            "linecolor": "white",
            "ticks": ""
           },
           "baxis": {
            "gridcolor": "white",
            "linecolor": "white",
            "ticks": ""
           },
           "bgcolor": "#E5ECF6",
           "caxis": {
            "gridcolor": "white",
            "linecolor": "white",
            "ticks": ""
           }
          },
          "title": {
           "x": 0.05
          },
          "xaxis": {
           "automargin": true,
           "gridcolor": "white",
           "linecolor": "white",
           "ticks": "",
           "title": {
            "standoff": 15
           },
           "zerolinecolor": "white",
           "zerolinewidth": 2
          },
          "yaxis": {
           "automargin": true,
           "gridcolor": "white",
           "linecolor": "white",
           "ticks": "",
           "title": {
            "standoff": 15
           },
           "zerolinecolor": "white",
           "zerolinewidth": 2
          }
         }
        },
        "width": 1000,
        "xaxis": {
         "anchor": "y",
         "domain": [
          0,
          0.45
         ],
         "title": {
          "text": "Cores"
         }
        },
        "xaxis2": {
         "anchor": "y2",
         "domain": [
          0.55,
          1
         ],
         "title": {
          "text": "Cores"
         }
        },
        "xaxis3": {
         "anchor": "y3",
         "domain": [
          0,
          0.45
         ],
         "title": {
          "text": "Cores"
         }
        },
        "xaxis4": {
         "anchor": "y4",
         "domain": [
          0.55,
          1
         ],
         "title": {
          "text": "Cores"
         }
        },
        "xaxis5": {
         "anchor": "y5",
         "domain": [
          0,
          0.45
         ],
         "title": {
          "text": "Cores"
         }
        },
        "xaxis6": {
         "anchor": "y6",
         "domain": [
          0.55,
          1
         ],
         "title": {
          "text": "Cores"
         }
        },
        "yaxis": {
         "anchor": "x",
         "domain": [
          0.7333333333333333,
          1
         ],
         "range": [
          0,
          1.1
         ],
         "title": {
          "text": "Eficiencia"
         }
        },
        "yaxis2": {
         "anchor": "x2",
         "domain": [
          0.7333333333333333,
          1
         ],
         "range": [
          0,
          1.1
         ],
         "title": {
          "text": "Eficiencia"
         }
        },
        "yaxis3": {
         "anchor": "x3",
         "domain": [
          0.36666666666666664,
          0.6333333333333333
         ],
         "range": [
          0,
          1.1
         ],
         "title": {
          "text": "Eficiencia"
         }
        },
        "yaxis4": {
         "anchor": "x4",
         "domain": [
          0.36666666666666664,
          0.6333333333333333
         ],
         "range": [
          0,
          1.1
         ],
         "title": {
          "text": "Eficiencia"
         }
        },
        "yaxis5": {
         "anchor": "x5",
         "domain": [
          0,
          0.26666666666666666
         ],
         "range": [
          0,
          1.1
         ],
         "title": {
          "text": "Eficiencia"
         }
        },
        "yaxis6": {
         "anchor": "x6",
         "domain": [
          0,
          0.26666666666666666
         ],
         "range": [
          0,
          1.1
         ],
         "title": {
          "text": "Eficiencia"
         }
        }
       }
      }
     },
     "metadata": {},
     "output_type": "display_data"
    }
   ],
   "source": [
    "axis_range = [0, 1.1]\n",
    "\n",
    "fig = make_subplots(rows=3, cols=2)\n",
    "for i, n_value in enumerate(comparacion_prueba1['N'].unique()):\n",
    "    color = colors[i % len(colors)]  # Seleccionar un color de la paleta\n",
    "    # Gráficas sobre la maquina 1\n",
    "    fig.add_trace(go.Scatter(x=comparacion_prueba1[comparacion_prueba1['N'] == n_value]['CORES'], \n",
    "                             y=comparacion_prueba1[comparacion_prueba1['N'] == n_value]['EFICIENCIA_x'], mode='lines+markers', name=f'N={n_value}', \n",
    "                             line=dict(color=color), showlegend=True, legendgroup=f\"N={n_value}\"), row=1, col=1)\n",
    "    fig.update_yaxes(range=axis_range, row=1, col=1)\n",
    "    fig.add_trace(go.Scatter(x=comparacion_prueba1[comparacion_prueba1['N'] == n_value]['CORES'], \n",
    "                             y=comparacion_prueba1[comparacion_prueba1['N'] == n_value]['EFICIENCIA_y'], mode='lines+markers', name=f'N={n_value}', \n",
    "                             line=dict(color=color), showlegend=True, legendgroup=f\"N={n_value}\"), row=1, col=2)\n",
    "    fig.update_yaxes(range=axis_range, row=1, col=2)\n",
    "    # Gráficas sobre la maquina 2\n",
    "    fig.add_trace(go.Scatter(x=comparacion_prueba2[comparacion_prueba2['N'] == n_value]['CORES'], \n",
    "                             y=comparacion_prueba2[comparacion_prueba2['N'] == n_value]['EFICIENCIA_x'], mode='lines+markers', name=f'N={n_value}', \n",
    "                             line=dict(color=color), showlegend=True, legendgroup=f\"N={n_value}\"), row=2, col=1)\n",
    "    fig.update_yaxes(range=axis_range, row=2, col=1)\n",
    "    fig.add_trace(go.Scatter(x=comparacion_prueba2[comparacion_prueba2['N'] == n_value]['CORES'], \n",
    "                             y=comparacion_prueba2[comparacion_prueba2['N'] == n_value]['EFICIENCIA_y'], mode='lines+markers', name=f'N={n_value}', \n",
    "                             line=dict(color=color), showlegend=True, legendgroup=f\"N={n_value}\"), row=2, col=2)\n",
    "    fig.update_yaxes(range=axis_range, row=2, col=2)\n",
    "    # Gráficas sobre la maquina 3\n",
    "    fig.add_trace(go.Scatter(x=comparacion_prueba3[comparacion_prueba3['N'] == n_value]['CORES'], \n",
    "                             y=comparacion_prueba3[comparacion_prueba3['N'] == n_value]['EFICIENCIA_x'], mode='lines+markers', name=f'N={n_value}', \n",
    "                             line=dict(color=color), showlegend=True, legendgroup=f\"N={n_value}\"), row=3, col=1)\n",
    "    fig.update_yaxes(range=axis_range, row=3, col=1)\n",
    "    fig.add_trace(go.Scatter(x=comparacion_prueba3[comparacion_prueba3['N'] == n_value]['CORES'], \n",
    "                             y=comparacion_prueba3[comparacion_prueba3['N'] == n_value]['EFICIENCIA_y'], mode='lines+markers', name=f'N={n_value}', \n",
    "                             line=dict(color=color), showlegend=True, legendgroup=f\"N={n_value}\"), row=3, col=2)\n",
    "    fig.update_yaxes(range=axis_range, row=3, col=2)\n",
    "\n",
    "# Actualizar el diseño del gráfico\n",
    "fig.update_xaxes(title_text=\"Cores\", row=1, col=1)\n",
    "fig.update_yaxes(title_text=\"Eficiencia\", row=1, col=1)\n",
    "\n",
    "fig.update_xaxes(title_text=\"Cores\", row=1, col=2)\n",
    "fig.update_yaxes(title_text=\"Eficiencia\", row=1, col=2)\n",
    "\n",
    "fig.update_xaxes(title_text=\"Cores\", row=2, col=1)\n",
    "fig.update_yaxes(title_text=\"Eficiencia\", row=2, col=1)\n",
    "\n",
    "fig.update_xaxes(title_text=\"Cores\", row=2, col=2)\n",
    "fig.update_yaxes(title_text=\"Eficiencia\", row=2, col=2)\n",
    "\n",
    "fig.update_xaxes(title_text=\"Cores\", row=3, col=1)\n",
    "fig.update_yaxes(title_text=\"Eficiencia\", row=3, col=1)\n",
    "\n",
    "fig.update_xaxes(title_text=\"Cores\", row=3, col=2)\n",
    "fig.update_yaxes(title_text=\"Eficiencia\", row=3, col=2)\n",
    "\n",
    "fig.update_layout(annotations=[\n",
    "    dict(text=\"Filas x Columnas\", x=0.18, y=1.1, xref=\"paper\", yref=\"paper\", showarrow=False, font=dict(size=20)),\n",
    "    dict(text=\"Filas x Filas\", x=0.825, y=1.1, xref=\"paper\", yref=\"paper\", showarrow=False, font=dict(size=20))\n",
    "])\n",
    "\n",
    "fig.update_layout(height=800, width=1000)\n",
    "# Mostrar el gráfico\n",
    "fig.show()"
   ]
  },
  {
   "cell_type": "markdown",
   "metadata": {},
   "source": [
    "## Comparación momento 1 vs momento 2"
   ]
  },
  {
   "cell_type": "code",
   "execution_count": 51,
   "metadata": {},
   "outputs": [],
   "source": [
    "comparacion_prueba1 = pd.merge(left=FilasxColumnasM1_promedio, right=FilasxFilasM1_promedio, how='inner', on=['N', 'CORES'])\n",
    "comparacion_prueba2 = pd.merge(left=FilasxColumnasM2_promedio, right=FilasxFilasM2_promedio, how='inner', on=['N', 'CORES'])\n",
    "comparacion_prueba3 = pd.merge(left=FilasxColumnasM3_promedio, right=FilasxFilasM3_promedio, how='inner', on=['N', 'CORES'])"
   ]
  },
  {
   "cell_type": "code",
   "execution_count": 71,
   "metadata": {},
   "outputs": [],
   "source": [
    "def graph_linear_regresion(df, field='EFICIENCIA'):\n",
    "    # Aplicación de la regresión lineal sobre las eficiencias calculadas para los dos algoritmos\n",
    "    slope, intercept, r_value, p_value, std_err = linregress(comparacion_prueba1[f'{field}_x'].values, comparacion_prueba1[f'{field}_y'].values)\n",
    "    modelo_lineal = np.poly1d([slope, intercept])\n",
    "    predicciones = modelo_lineal(comparacion_prueba1[f'{field}_x'].values)\n",
    "    r_cuadrado = r_value ** 2\n",
    "    \n",
    "    fig = go.Figure()\n",
    "    for n_value in df['N'].unique():\n",
    "        fig.add_trace(go.Scatter(x=df[df['N'] == n_value][f'{field}_x'].values, y=df[df['N'] == n_value][f'{field}_y'].values, \n",
    "                                 mode='markers', name=f'N={n_value}'))\n",
    "    \n",
    "    fig.add_trace(go.Scatter(x=comparacion_prueba1[f'{field}_x'].values, y=predicciones, mode='lines', name='Identidad', line=dict(color='black', dash='dash')))\n",
    "    \n",
    "    fig.update_layout(\n",
    "        title='Gráfico de eficiencia para diferentes valores de N con identidad'\n",
    "    )\n",
    "    print('R2: ', r_cuadrado)\n",
    "    print('P valor: ', p_value)\n",
    "    fig.show()"
   ]
  },
  {
   "cell_type": "code",
   "execution_count": 73,
   "metadata": {},
   "outputs": [
    {
     "name": "stdout",
     "output_type": "stream",
     "text": [
      "R2:  0.9176514279099574\n",
      "P valor:  3.3446346589037073e-22\n"
     ]
    },
    {
     "data": {
      "application/vnd.plotly.v1+json": {
       "config": {
        "plotlyServerURL": "https://plot.ly"
       },
       "data": [
        {
         "mode": "markers",
         "name": "N=100",
         "type": "scatter",
         "x": [
          0.18994953569002035,
          0.16788298298633894,
          0.3333333333333333,
          0.0686370792944135,
          0.12275313857746761,
          0.05636870020055795,
          0.07739250352491008,
          0.0498550573133417
         ],
         "y": [
          0.017594942918991132,
          0.014741373141643102,
          0.3333333333333333,
          0.006299994147777849,
          0.01621787033285883,
          0.005923575272086975,
          0.009420639046686368,
          0.006569396400823512
         ]
        },
        {
         "mode": "markers",
         "name": "N=200",
         "type": "scatter",
         "x": [
          0.5554045894825559,
          0.3028272254574663,
          0.22415084582863734,
          0.16290819249498711,
          0.1490008750694292,
          0.15308123382503203,
          0.14285714285714285,
          0.11942770460250998
         ],
         "y": [
          1,
          0.467824999727117,
          0.29736819084213245,
          0.20208246943736893,
          0.15362373806840582,
          0.11547919201766078,
          0.09053449038054473,
          0.08707585879013614
         ]
        },
        {
         "mode": "markers",
         "name": "N=300",
         "type": "scatter",
         "x": [
          0.7173540505156302,
          0.39036594972419925,
          0.26155811121601885,
          0.18108675746134031,
          0.15222495430091293,
          0.13055028322548173,
          0.12082787396566322,
          0.125
         ],
         "y": [
          1,
          0.4604891037230749,
          0.2858508131064049,
          0.19355266566182128,
          0.14680538750223313,
          0.1123088844838927,
          0.08955409201348898,
          0.07060053118712355
         ]
        },
        {
         "mode": "markers",
         "name": "N=400",
         "type": "scatter",
         "x": [
          0.8410651334659778,
          0.45704896148783886,
          0.3333333333333333,
          0.23790892228587554,
          0.18729313836446887,
          0.14722699552095997,
          0.12948013292670654,
          0.10908293021137205
         ],
         "y": [
          1,
          0.4570916893726357,
          0.27974438377091565,
          0.19100703785734252,
          0.14131306763796234,
          0.10896271722608114,
          0.08696967941719258,
          0.07052993327004611
         ]
        },
        {
         "mode": "markers",
         "name": "N=500",
         "type": "scatter",
         "x": [
          0.9004615108873599,
          0.47326171341464623,
          0.3333333333333333,
          0.24110729330713154,
          0.19157920729904193,
          0.16063975117467538,
          0.14051407926776813,
          0.1196482249005303
         ],
         "y": [
          1,
          0.4580914715417476,
          0.28019659086528775,
          0.1921301807616067,
          0.14180862669218325,
          0.10895038850387313,
          0.08622548505270643,
          0.07051812567467924
         ]
        },
        {
         "line": {
          "color": "black",
          "dash": "dash"
         },
         "mode": "lines",
         "name": "Identidad",
         "type": "scatter",
         "x": [
          0.18994953569002035,
          0.16788298298633894,
          0.3333333333333333,
          0.0686370792944135,
          0.12275313857746761,
          0.05636870020055795,
          0.07739250352491008,
          0.0498550573133417,
          0.5554045894825559,
          0.3028272254574663,
          0.22415084582863734,
          0.16290819249498711,
          0.1490008750694292,
          0.15308123382503203,
          0.14285714285714285,
          0.11942770460250998,
          0.7173540505156302,
          0.39036594972419925,
          0.26155811121601885,
          0.18108675746134031,
          0.15222495430091293,
          0.13055028322548173,
          0.12082787396566322,
          0.125,
          0.8410651334659778,
          0.45704896148783886,
          0.3333333333333333,
          0.23790892228587554,
          0.18729313836446887,
          0.14722699552095997,
          0.12948013292670654,
          0.10908293021137205,
          0.9004615108873599,
          0.47326171341464623,
          0.3333333333333333,
          0.24110729330713154,
          0.19157920729904193,
          0.16063975117467538,
          0.14051407926776813,
          0.1196482249005303
         ],
         "y": [
          0.1663401415280105,
          0.13638708798771618,
          0.36096875548928287,
          0.0016710810582245411,
          0.07512801123040483,
          -0.014981969410758592,
          0.013555660143398193,
          -0.02382356314599554,
          0.6624074221682136,
          0.3195598823054169,
          0.21276486801278208,
          0.12963432656003976,
          0.11075658752017115,
          0.11629525075911878,
          0.10241710910852317,
          0.07061407997733685,
          0.8822369960162484,
          0.43838460903190146,
          0.2635413457884569,
          0.15430984053971342,
          0.11513294023532236,
          0.08571182530592297,
          0.07251466447112648,
          0.07817789226032695,
          1.0501619429211337,
          0.5288998720367636,
          0.36096875548928287,
          0.2314400279378014,
          0.1627343580427059,
          0.1083487302620473,
          0.08425920741740126,
          0.05657212311343912,
          1.1307863565707281,
          0.5509069989777177,
          0.36096875548928287,
          0.23578148442753324,
          0.16855225148526617,
          0.12655515306009488,
          0.09923664362833301,
          0.07091341337943285
         ]
        }
       ],
       "layout": {
        "template": {
         "data": {
          "bar": [
           {
            "error_x": {
             "color": "#2a3f5f"
            },
            "error_y": {
             "color": "#2a3f5f"
            },
            "marker": {
             "line": {
              "color": "#E5ECF6",
              "width": 0.5
             },
             "pattern": {
              "fillmode": "overlay",
              "size": 10,
              "solidity": 0.2
             }
            },
            "type": "bar"
           }
          ],
          "barpolar": [
           {
            "marker": {
             "line": {
              "color": "#E5ECF6",
              "width": 0.5
             },
             "pattern": {
              "fillmode": "overlay",
              "size": 10,
              "solidity": 0.2
             }
            },
            "type": "barpolar"
           }
          ],
          "carpet": [
           {
            "aaxis": {
             "endlinecolor": "#2a3f5f",
             "gridcolor": "white",
             "linecolor": "white",
             "minorgridcolor": "white",
             "startlinecolor": "#2a3f5f"
            },
            "baxis": {
             "endlinecolor": "#2a3f5f",
             "gridcolor": "white",
             "linecolor": "white",
             "minorgridcolor": "white",
             "startlinecolor": "#2a3f5f"
            },
            "type": "carpet"
           }
          ],
          "choropleth": [
           {
            "colorbar": {
             "outlinewidth": 0,
             "ticks": ""
            },
            "type": "choropleth"
           }
          ],
          "contour": [
           {
            "colorbar": {
             "outlinewidth": 0,
             "ticks": ""
            },
            "colorscale": [
             [
              0,
              "#0d0887"
             ],
             [
              0.1111111111111111,
              "#46039f"
             ],
             [
              0.2222222222222222,
              "#7201a8"
             ],
             [
              0.3333333333333333,
              "#9c179e"
             ],
             [
              0.4444444444444444,
              "#bd3786"
             ],
             [
              0.5555555555555556,
              "#d8576b"
             ],
             [
              0.6666666666666666,
              "#ed7953"
             ],
             [
              0.7777777777777778,
              "#fb9f3a"
             ],
             [
              0.8888888888888888,
              "#fdca26"
             ],
             [
              1,
              "#f0f921"
             ]
            ],
            "type": "contour"
           }
          ],
          "contourcarpet": [
           {
            "colorbar": {
             "outlinewidth": 0,
             "ticks": ""
            },
            "type": "contourcarpet"
           }
          ],
          "heatmap": [
           {
            "colorbar": {
             "outlinewidth": 0,
             "ticks": ""
            },
            "colorscale": [
             [
              0,
              "#0d0887"
             ],
             [
              0.1111111111111111,
              "#46039f"
             ],
             [
              0.2222222222222222,
              "#7201a8"
             ],
             [
              0.3333333333333333,
              "#9c179e"
             ],
             [
              0.4444444444444444,
              "#bd3786"
             ],
             [
              0.5555555555555556,
              "#d8576b"
             ],
             [
              0.6666666666666666,
              "#ed7953"
             ],
             [
              0.7777777777777778,
              "#fb9f3a"
             ],
             [
              0.8888888888888888,
              "#fdca26"
             ],
             [
              1,
              "#f0f921"
             ]
            ],
            "type": "heatmap"
           }
          ],
          "heatmapgl": [
           {
            "colorbar": {
             "outlinewidth": 0,
             "ticks": ""
            },
            "colorscale": [
             [
              0,
              "#0d0887"
             ],
             [
              0.1111111111111111,
              "#46039f"
             ],
             [
              0.2222222222222222,
              "#7201a8"
             ],
             [
              0.3333333333333333,
              "#9c179e"
             ],
             [
              0.4444444444444444,
              "#bd3786"
             ],
             [
              0.5555555555555556,
              "#d8576b"
             ],
             [
              0.6666666666666666,
              "#ed7953"
             ],
             [
              0.7777777777777778,
              "#fb9f3a"
             ],
             [
              0.8888888888888888,
              "#fdca26"
             ],
             [
              1,
              "#f0f921"
             ]
            ],
            "type": "heatmapgl"
           }
          ],
          "histogram": [
           {
            "marker": {
             "pattern": {
              "fillmode": "overlay",
              "size": 10,
              "solidity": 0.2
             }
            },
            "type": "histogram"
           }
          ],
          "histogram2d": [
           {
            "colorbar": {
             "outlinewidth": 0,
             "ticks": ""
            },
            "colorscale": [
             [
              0,
              "#0d0887"
             ],
             [
              0.1111111111111111,
              "#46039f"
             ],
             [
              0.2222222222222222,
              "#7201a8"
             ],
             [
              0.3333333333333333,
              "#9c179e"
             ],
             [
              0.4444444444444444,
              "#bd3786"
             ],
             [
              0.5555555555555556,
              "#d8576b"
             ],
             [
              0.6666666666666666,
              "#ed7953"
             ],
             [
              0.7777777777777778,
              "#fb9f3a"
             ],
             [
              0.8888888888888888,
              "#fdca26"
             ],
             [
              1,
              "#f0f921"
             ]
            ],
            "type": "histogram2d"
           }
          ],
          "histogram2dcontour": [
           {
            "colorbar": {
             "outlinewidth": 0,
             "ticks": ""
            },
            "colorscale": [
             [
              0,
              "#0d0887"
             ],
             [
              0.1111111111111111,
              "#46039f"
             ],
             [
              0.2222222222222222,
              "#7201a8"
             ],
             [
              0.3333333333333333,
              "#9c179e"
             ],
             [
              0.4444444444444444,
              "#bd3786"
             ],
             [
              0.5555555555555556,
              "#d8576b"
             ],
             [
              0.6666666666666666,
              "#ed7953"
             ],
             [
              0.7777777777777778,
              "#fb9f3a"
             ],
             [
              0.8888888888888888,
              "#fdca26"
             ],
             [
              1,
              "#f0f921"
             ]
            ],
            "type": "histogram2dcontour"
           }
          ],
          "mesh3d": [
           {
            "colorbar": {
             "outlinewidth": 0,
             "ticks": ""
            },
            "type": "mesh3d"
           }
          ],
          "parcoords": [
           {
            "line": {
             "colorbar": {
              "outlinewidth": 0,
              "ticks": ""
             }
            },
            "type": "parcoords"
           }
          ],
          "pie": [
           {
            "automargin": true,
            "type": "pie"
           }
          ],
          "scatter": [
           {
            "fillpattern": {
             "fillmode": "overlay",
             "size": 10,
             "solidity": 0.2
            },
            "type": "scatter"
           }
          ],
          "scatter3d": [
           {
            "line": {
             "colorbar": {
              "outlinewidth": 0,
              "ticks": ""
             }
            },
            "marker": {
             "colorbar": {
              "outlinewidth": 0,
              "ticks": ""
             }
            },
            "type": "scatter3d"
           }
          ],
          "scattercarpet": [
           {
            "marker": {
             "colorbar": {
              "outlinewidth": 0,
              "ticks": ""
             }
            },
            "type": "scattercarpet"
           }
          ],
          "scattergeo": [
           {
            "marker": {
             "colorbar": {
              "outlinewidth": 0,
              "ticks": ""
             }
            },
            "type": "scattergeo"
           }
          ],
          "scattergl": [
           {
            "marker": {
             "colorbar": {
              "outlinewidth": 0,
              "ticks": ""
             }
            },
            "type": "scattergl"
           }
          ],
          "scattermapbox": [
           {
            "marker": {
             "colorbar": {
              "outlinewidth": 0,
              "ticks": ""
             }
            },
            "type": "scattermapbox"
           }
          ],
          "scatterpolar": [
           {
            "marker": {
             "colorbar": {
              "outlinewidth": 0,
              "ticks": ""
             }
            },
            "type": "scatterpolar"
           }
          ],
          "scatterpolargl": [
           {
            "marker": {
             "colorbar": {
              "outlinewidth": 0,
              "ticks": ""
             }
            },
            "type": "scatterpolargl"
           }
          ],
          "scatterternary": [
           {
            "marker": {
             "colorbar": {
              "outlinewidth": 0,
              "ticks": ""
             }
            },
            "type": "scatterternary"
           }
          ],
          "surface": [
           {
            "colorbar": {
             "outlinewidth": 0,
             "ticks": ""
            },
            "colorscale": [
             [
              0,
              "#0d0887"
             ],
             [
              0.1111111111111111,
              "#46039f"
             ],
             [
              0.2222222222222222,
              "#7201a8"
             ],
             [
              0.3333333333333333,
              "#9c179e"
             ],
             [
              0.4444444444444444,
              "#bd3786"
             ],
             [
              0.5555555555555556,
              "#d8576b"
             ],
             [
              0.6666666666666666,
              "#ed7953"
             ],
             [
              0.7777777777777778,
              "#fb9f3a"
             ],
             [
              0.8888888888888888,
              "#fdca26"
             ],
             [
              1,
              "#f0f921"
             ]
            ],
            "type": "surface"
           }
          ],
          "table": [
           {
            "cells": {
             "fill": {
              "color": "#EBF0F8"
             },
             "line": {
              "color": "white"
             }
            },
            "header": {
             "fill": {
              "color": "#C8D4E3"
             },
             "line": {
              "color": "white"
             }
            },
            "type": "table"
           }
          ]
         },
         "layout": {
          "annotationdefaults": {
           "arrowcolor": "#2a3f5f",
           "arrowhead": 0,
           "arrowwidth": 1
          },
          "autotypenumbers": "strict",
          "coloraxis": {
           "colorbar": {
            "outlinewidth": 0,
            "ticks": ""
           }
          },
          "colorscale": {
           "diverging": [
            [
             0,
             "#8e0152"
            ],
            [
             0.1,
             "#c51b7d"
            ],
            [
             0.2,
             "#de77ae"
            ],
            [
             0.3,
             "#f1b6da"
            ],
            [
             0.4,
             "#fde0ef"
            ],
            [
             0.5,
             "#f7f7f7"
            ],
            [
             0.6,
             "#e6f5d0"
            ],
            [
             0.7,
             "#b8e186"
            ],
            [
             0.8,
             "#7fbc41"
            ],
            [
             0.9,
             "#4d9221"
            ],
            [
             1,
             "#276419"
            ]
           ],
           "sequential": [
            [
             0,
             "#0d0887"
            ],
            [
             0.1111111111111111,
             "#46039f"
            ],
            [
             0.2222222222222222,
             "#7201a8"
            ],
            [
             0.3333333333333333,
             "#9c179e"
            ],
            [
             0.4444444444444444,
             "#bd3786"
            ],
            [
             0.5555555555555556,
             "#d8576b"
            ],
            [
             0.6666666666666666,
             "#ed7953"
            ],
            [
             0.7777777777777778,
             "#fb9f3a"
            ],
            [
             0.8888888888888888,
             "#fdca26"
            ],
            [
             1,
             "#f0f921"
            ]
           ],
           "sequentialminus": [
            [
             0,
             "#0d0887"
            ],
            [
             0.1111111111111111,
             "#46039f"
            ],
            [
             0.2222222222222222,
             "#7201a8"
            ],
            [
             0.3333333333333333,
             "#9c179e"
            ],
            [
             0.4444444444444444,
             "#bd3786"
            ],
            [
             0.5555555555555556,
             "#d8576b"
            ],
            [
             0.6666666666666666,
             "#ed7953"
            ],
            [
             0.7777777777777778,
             "#fb9f3a"
            ],
            [
             0.8888888888888888,
             "#fdca26"
            ],
            [
             1,
             "#f0f921"
            ]
           ]
          },
          "colorway": [
           "#636efa",
           "#EF553B",
           "#00cc96",
           "#ab63fa",
           "#FFA15A",
           "#19d3f3",
           "#FF6692",
           "#B6E880",
           "#FF97FF",
           "#FECB52"
          ],
          "font": {
           "color": "#2a3f5f"
          },
          "geo": {
           "bgcolor": "white",
           "lakecolor": "white",
           "landcolor": "#E5ECF6",
           "showlakes": true,
           "showland": true,
           "subunitcolor": "white"
          },
          "hoverlabel": {
           "align": "left"
          },
          "hovermode": "closest",
          "mapbox": {
           "style": "light"
          },
          "paper_bgcolor": "white",
          "plot_bgcolor": "#E5ECF6",
          "polar": {
           "angularaxis": {
            "gridcolor": "white",
            "linecolor": "white",
            "ticks": ""
           },
           "bgcolor": "#E5ECF6",
           "radialaxis": {
            "gridcolor": "white",
            "linecolor": "white",
            "ticks": ""
           }
          },
          "scene": {
           "xaxis": {
            "backgroundcolor": "#E5ECF6",
            "gridcolor": "white",
            "gridwidth": 2,
            "linecolor": "white",
            "showbackground": true,
            "ticks": "",
            "zerolinecolor": "white"
           },
           "yaxis": {
            "backgroundcolor": "#E5ECF6",
            "gridcolor": "white",
            "gridwidth": 2,
            "linecolor": "white",
            "showbackground": true,
            "ticks": "",
            "zerolinecolor": "white"
           },
           "zaxis": {
            "backgroundcolor": "#E5ECF6",
            "gridcolor": "white",
            "gridwidth": 2,
            "linecolor": "white",
            "showbackground": true,
            "ticks": "",
            "zerolinecolor": "white"
           }
          },
          "shapedefaults": {
           "line": {
            "color": "#2a3f5f"
           }
          },
          "ternary": {
           "aaxis": {
            "gridcolor": "white",
            "linecolor": "white",
            "ticks": ""
           },
           "baxis": {
            "gridcolor": "white",
            "linecolor": "white",
            "ticks": ""
           },
           "bgcolor": "#E5ECF6",
           "caxis": {
            "gridcolor": "white",
            "linecolor": "white",
            "ticks": ""
           }
          },
          "title": {
           "x": 0.05
          },
          "xaxis": {
           "automargin": true,
           "gridcolor": "white",
           "linecolor": "white",
           "ticks": "",
           "title": {
            "standoff": 15
           },
           "zerolinecolor": "white",
           "zerolinewidth": 2
          },
          "yaxis": {
           "automargin": true,
           "gridcolor": "white",
           "linecolor": "white",
           "ticks": "",
           "title": {
            "standoff": 15
           },
           "zerolinecolor": "white",
           "zerolinewidth": 2
          }
         }
        },
        "title": {
         "text": "Gráfico de eficiencia para diferentes valores de N con identidad"
        }
       }
      }
     },
     "metadata": {},
     "output_type": "display_data"
    }
   ],
   "source": [
    "# EFICIENCIA, TIEMPO_EJECUCION, SPEED_UP\n",
    "graph_linear_regresion(comparacion_prueba1, \"EFICIENCIA\")"
   ]
  },
  {
   "cell_type": "code",
   "execution_count": 74,
   "metadata": {},
   "outputs": [
    {
     "name": "stdout",
     "output_type": "stream",
     "text": [
      "R2:  0.9176514279099574\n",
      "P valor:  3.3446346589037073e-22\n"
     ]
    },
    {
     "data": {
      "application/vnd.plotly.v1+json": {
       "config": {
        "plotlyServerURL": "https://plot.ly"
       },
       "data": [
        {
         "mode": "markers",
         "name": "N=100",
         "type": "scatter",
         "x": [
          0.33694003913892756,
          0.2979998799113923,
          0.3333333333333333,
          0.12527256367092096,
          0.14078392274548707,
          0.10742457013800122,
          0.13366787945963968,
          0.12473138846776896
         ],
         "y": [
          0.03022686369894935,
          0.025069565386169498,
          0.3333333333333333,
          0.01074981425071538,
          0.0267599930311292,
          0.010043786817439228,
          0.01563468037366311,
          0.011039432789432788
         ]
        },
        {
         "mode": "markers",
         "name": "N=200",
         "type": "scatter",
         "x": [
          0.7935106632593193,
          0.43775508977410094,
          0.3333333333333333,
          0.20406419606190054,
          0.16549475977993616,
          0.12757527020411558,
          0.12158834438374029,
          0.10578485989596703
         ],
         "y": [
          1,
          0.4678195290541206,
          0.29739593832370814,
          0.20215403843194424,
          0.15375799219954225,
          0.11559479770765498,
          0.09062750902975879,
          0.08715365944172287
         ]
        },
        {
         "mode": "markers",
         "name": "N=300",
         "type": "scatter",
         "x": [
          0.8797576207010559,
          0.4881097735756364,
          0.3333333333333333,
          0.2373292680210705,
          0.19074772055358355,
          0.14771848370342872,
          0.12290275197756818,
          0.10716150884477729
         ],
         "y": [
          1,
          0.4605262600682151,
          0.28590335985357673,
          0.1936408912171467,
          0.14691054362272732,
          0.1124021163079551,
          0.0896309028746327,
          0.0706635264792845
         ]
        },
        {
         "mode": "markers",
         "name": "N=400",
         "type": "scatter",
         "x": [
          0.83018548837253,
          0.4538294773614174,
          0.30338342973985183,
          0.2264721886261669,
          0.19179245515966575,
          0.16666666666666666,
          0.13916706224638753,
          0.11081725020816578
         ],
         "y": [
          1,
          0.45711393221345126,
          0.27976784587741416,
          0.19105328118422568,
          0.14138075396597405,
          0.10902341916297013,
          0.08701834524243832,
          0.07056989926699132
         ]
        },
        {
         "mode": "markers",
         "name": "N=500",
         "type": "scatter",
         "x": [
          0.8966734225281539,
          0.47779310558044435,
          0.32215835086339334,
          0.24139225344866444,
          0.2,
          0.160613093286422,
          0.13666321396725462,
          0.11885904588722242
         ],
         "y": [
          1,
          0.4581664343207899,
          0.28028020047979946,
          0.19222738195281852,
          0.14193528187603924,
          0.10906993427969658,
          0.08632625398054158,
          0.07059609789924173
         ]
        },
        {
         "line": {
          "color": "black",
          "dash": "dash"
         },
         "mode": "lines",
         "name": "Identidad",
         "type": "scatter",
         "x": [
          0.18994953569002035,
          0.16788298298633894,
          0.3333333333333333,
          0.0686370792944135,
          0.12275313857746761,
          0.05636870020055795,
          0.07739250352491008,
          0.0498550573133417,
          0.5554045894825559,
          0.3028272254574663,
          0.22415084582863734,
          0.16290819249498711,
          0.1490008750694292,
          0.15308123382503203,
          0.14285714285714285,
          0.11942770460250998,
          0.7173540505156302,
          0.39036594972419925,
          0.26155811121601885,
          0.18108675746134031,
          0.15222495430091293,
          0.13055028322548173,
          0.12082787396566322,
          0.125,
          0.8410651334659778,
          0.45704896148783886,
          0.3333333333333333,
          0.23790892228587554,
          0.18729313836446887,
          0.14722699552095997,
          0.12948013292670654,
          0.10908293021137205,
          0.9004615108873599,
          0.47326171341464623,
          0.3333333333333333,
          0.24110729330713154,
          0.19157920729904193,
          0.16063975117467538,
          0.14051407926776813,
          0.1196482249005303
         ],
         "y": [
          0.1663401415280105,
          0.13638708798771618,
          0.36096875548928287,
          0.0016710810582245411,
          0.07512801123040483,
          -0.014981969410758592,
          0.013555660143398193,
          -0.02382356314599554,
          0.6624074221682136,
          0.3195598823054169,
          0.21276486801278208,
          0.12963432656003976,
          0.11075658752017115,
          0.11629525075911878,
          0.10241710910852317,
          0.07061407997733685,
          0.8822369960162484,
          0.43838460903190146,
          0.2635413457884569,
          0.15430984053971342,
          0.11513294023532236,
          0.08571182530592297,
          0.07251466447112648,
          0.07817789226032695,
          1.0501619429211337,
          0.5288998720367636,
          0.36096875548928287,
          0.2314400279378014,
          0.1627343580427059,
          0.1083487302620473,
          0.08425920741740126,
          0.05657212311343912,
          1.1307863565707281,
          0.5509069989777177,
          0.36096875548928287,
          0.23578148442753324,
          0.16855225148526617,
          0.12655515306009488,
          0.09923664362833301,
          0.07091341337943285
         ]
        }
       ],
       "layout": {
        "template": {
         "data": {
          "bar": [
           {
            "error_x": {
             "color": "#2a3f5f"
            },
            "error_y": {
             "color": "#2a3f5f"
            },
            "marker": {
             "line": {
              "color": "#E5ECF6",
              "width": 0.5
             },
             "pattern": {
              "fillmode": "overlay",
              "size": 10,
              "solidity": 0.2
             }
            },
            "type": "bar"
           }
          ],
          "barpolar": [
           {
            "marker": {
             "line": {
              "color": "#E5ECF6",
              "width": 0.5
             },
             "pattern": {
              "fillmode": "overlay",
              "size": 10,
              "solidity": 0.2
             }
            },
            "type": "barpolar"
           }
          ],
          "carpet": [
           {
            "aaxis": {
             "endlinecolor": "#2a3f5f",
             "gridcolor": "white",
             "linecolor": "white",
             "minorgridcolor": "white",
             "startlinecolor": "#2a3f5f"
            },
            "baxis": {
             "endlinecolor": "#2a3f5f",
             "gridcolor": "white",
             "linecolor": "white",
             "minorgridcolor": "white",
             "startlinecolor": "#2a3f5f"
            },
            "type": "carpet"
           }
          ],
          "choropleth": [
           {
            "colorbar": {
             "outlinewidth": 0,
             "ticks": ""
            },
            "type": "choropleth"
           }
          ],
          "contour": [
           {
            "colorbar": {
             "outlinewidth": 0,
             "ticks": ""
            },
            "colorscale": [
             [
              0,
              "#0d0887"
             ],
             [
              0.1111111111111111,
              "#46039f"
             ],
             [
              0.2222222222222222,
              "#7201a8"
             ],
             [
              0.3333333333333333,
              "#9c179e"
             ],
             [
              0.4444444444444444,
              "#bd3786"
             ],
             [
              0.5555555555555556,
              "#d8576b"
             ],
             [
              0.6666666666666666,
              "#ed7953"
             ],
             [
              0.7777777777777778,
              "#fb9f3a"
             ],
             [
              0.8888888888888888,
              "#fdca26"
             ],
             [
              1,
              "#f0f921"
             ]
            ],
            "type": "contour"
           }
          ],
          "contourcarpet": [
           {
            "colorbar": {
             "outlinewidth": 0,
             "ticks": ""
            },
            "type": "contourcarpet"
           }
          ],
          "heatmap": [
           {
            "colorbar": {
             "outlinewidth": 0,
             "ticks": ""
            },
            "colorscale": [
             [
              0,
              "#0d0887"
             ],
             [
              0.1111111111111111,
              "#46039f"
             ],
             [
              0.2222222222222222,
              "#7201a8"
             ],
             [
              0.3333333333333333,
              "#9c179e"
             ],
             [
              0.4444444444444444,
              "#bd3786"
             ],
             [
              0.5555555555555556,
              "#d8576b"
             ],
             [
              0.6666666666666666,
              "#ed7953"
             ],
             [
              0.7777777777777778,
              "#fb9f3a"
             ],
             [
              0.8888888888888888,
              "#fdca26"
             ],
             [
              1,
              "#f0f921"
             ]
            ],
            "type": "heatmap"
           }
          ],
          "heatmapgl": [
           {
            "colorbar": {
             "outlinewidth": 0,
             "ticks": ""
            },
            "colorscale": [
             [
              0,
              "#0d0887"
             ],
             [
              0.1111111111111111,
              "#46039f"
             ],
             [
              0.2222222222222222,
              "#7201a8"
             ],
             [
              0.3333333333333333,
              "#9c179e"
             ],
             [
              0.4444444444444444,
              "#bd3786"
             ],
             [
              0.5555555555555556,
              "#d8576b"
             ],
             [
              0.6666666666666666,
              "#ed7953"
             ],
             [
              0.7777777777777778,
              "#fb9f3a"
             ],
             [
              0.8888888888888888,
              "#fdca26"
             ],
             [
              1,
              "#f0f921"
             ]
            ],
            "type": "heatmapgl"
           }
          ],
          "histogram": [
           {
            "marker": {
             "pattern": {
              "fillmode": "overlay",
              "size": 10,
              "solidity": 0.2
             }
            },
            "type": "histogram"
           }
          ],
          "histogram2d": [
           {
            "colorbar": {
             "outlinewidth": 0,
             "ticks": ""
            },
            "colorscale": [
             [
              0,
              "#0d0887"
             ],
             [
              0.1111111111111111,
              "#46039f"
             ],
             [
              0.2222222222222222,
              "#7201a8"
             ],
             [
              0.3333333333333333,
              "#9c179e"
             ],
             [
              0.4444444444444444,
              "#bd3786"
             ],
             [
              0.5555555555555556,
              "#d8576b"
             ],
             [
              0.6666666666666666,
              "#ed7953"
             ],
             [
              0.7777777777777778,
              "#fb9f3a"
             ],
             [
              0.8888888888888888,
              "#fdca26"
             ],
             [
              1,
              "#f0f921"
             ]
            ],
            "type": "histogram2d"
           }
          ],
          "histogram2dcontour": [
           {
            "colorbar": {
             "outlinewidth": 0,
             "ticks": ""
            },
            "colorscale": [
             [
              0,
              "#0d0887"
             ],
             [
              0.1111111111111111,
              "#46039f"
             ],
             [
              0.2222222222222222,
              "#7201a8"
             ],
             [
              0.3333333333333333,
              "#9c179e"
             ],
             [
              0.4444444444444444,
              "#bd3786"
             ],
             [
              0.5555555555555556,
              "#d8576b"
             ],
             [
              0.6666666666666666,
              "#ed7953"
             ],
             [
              0.7777777777777778,
              "#fb9f3a"
             ],
             [
              0.8888888888888888,
              "#fdca26"
             ],
             [
              1,
              "#f0f921"
             ]
            ],
            "type": "histogram2dcontour"
           }
          ],
          "mesh3d": [
           {
            "colorbar": {
             "outlinewidth": 0,
             "ticks": ""
            },
            "type": "mesh3d"
           }
          ],
          "parcoords": [
           {
            "line": {
             "colorbar": {
              "outlinewidth": 0,
              "ticks": ""
             }
            },
            "type": "parcoords"
           }
          ],
          "pie": [
           {
            "automargin": true,
            "type": "pie"
           }
          ],
          "scatter": [
           {
            "fillpattern": {
             "fillmode": "overlay",
             "size": 10,
             "solidity": 0.2
            },
            "type": "scatter"
           }
          ],
          "scatter3d": [
           {
            "line": {
             "colorbar": {
              "outlinewidth": 0,
              "ticks": ""
             }
            },
            "marker": {
             "colorbar": {
              "outlinewidth": 0,
              "ticks": ""
             }
            },
            "type": "scatter3d"
           }
          ],
          "scattercarpet": [
           {
            "marker": {
             "colorbar": {
              "outlinewidth": 0,
              "ticks": ""
             }
            },
            "type": "scattercarpet"
           }
          ],
          "scattergeo": [
           {
            "marker": {
             "colorbar": {
              "outlinewidth": 0,
              "ticks": ""
             }
            },
            "type": "scattergeo"
           }
          ],
          "scattergl": [
           {
            "marker": {
             "colorbar": {
              "outlinewidth": 0,
              "ticks": ""
             }
            },
            "type": "scattergl"
           }
          ],
          "scattermapbox": [
           {
            "marker": {
             "colorbar": {
              "outlinewidth": 0,
              "ticks": ""
             }
            },
            "type": "scattermapbox"
           }
          ],
          "scatterpolar": [
           {
            "marker": {
             "colorbar": {
              "outlinewidth": 0,
              "ticks": ""
             }
            },
            "type": "scatterpolar"
           }
          ],
          "scatterpolargl": [
           {
            "marker": {
             "colorbar": {
              "outlinewidth": 0,
              "ticks": ""
             }
            },
            "type": "scatterpolargl"
           }
          ],
          "scatterternary": [
           {
            "marker": {
             "colorbar": {
              "outlinewidth": 0,
              "ticks": ""
             }
            },
            "type": "scatterternary"
           }
          ],
          "surface": [
           {
            "colorbar": {
             "outlinewidth": 0,
             "ticks": ""
            },
            "colorscale": [
             [
              0,
              "#0d0887"
             ],
             [
              0.1111111111111111,
              "#46039f"
             ],
             [
              0.2222222222222222,
              "#7201a8"
             ],
             [
              0.3333333333333333,
              "#9c179e"
             ],
             [
              0.4444444444444444,
              "#bd3786"
             ],
             [
              0.5555555555555556,
              "#d8576b"
             ],
             [
              0.6666666666666666,
              "#ed7953"
             ],
             [
              0.7777777777777778,
              "#fb9f3a"
             ],
             [
              0.8888888888888888,
              "#fdca26"
             ],
             [
              1,
              "#f0f921"
             ]
            ],
            "type": "surface"
           }
          ],
          "table": [
           {
            "cells": {
             "fill": {
              "color": "#EBF0F8"
             },
             "line": {
              "color": "white"
             }
            },
            "header": {
             "fill": {
              "color": "#C8D4E3"
             },
             "line": {
              "color": "white"
             }
            },
            "type": "table"
           }
          ]
         },
         "layout": {
          "annotationdefaults": {
           "arrowcolor": "#2a3f5f",
           "arrowhead": 0,
           "arrowwidth": 1
          },
          "autotypenumbers": "strict",
          "coloraxis": {
           "colorbar": {
            "outlinewidth": 0,
            "ticks": ""
           }
          },
          "colorscale": {
           "diverging": [
            [
             0,
             "#8e0152"
            ],
            [
             0.1,
             "#c51b7d"
            ],
            [
             0.2,
             "#de77ae"
            ],
            [
             0.3,
             "#f1b6da"
            ],
            [
             0.4,
             "#fde0ef"
            ],
            [
             0.5,
             "#f7f7f7"
            ],
            [
             0.6,
             "#e6f5d0"
            ],
            [
             0.7,
             "#b8e186"
            ],
            [
             0.8,
             "#7fbc41"
            ],
            [
             0.9,
             "#4d9221"
            ],
            [
             1,
             "#276419"
            ]
           ],
           "sequential": [
            [
             0,
             "#0d0887"
            ],
            [
             0.1111111111111111,
             "#46039f"
            ],
            [
             0.2222222222222222,
             "#7201a8"
            ],
            [
             0.3333333333333333,
             "#9c179e"
            ],
            [
             0.4444444444444444,
             "#bd3786"
            ],
            [
             0.5555555555555556,
             "#d8576b"
            ],
            [
             0.6666666666666666,
             "#ed7953"
            ],
            [
             0.7777777777777778,
             "#fb9f3a"
            ],
            [
             0.8888888888888888,
             "#fdca26"
            ],
            [
             1,
             "#f0f921"
            ]
           ],
           "sequentialminus": [
            [
             0,
             "#0d0887"
            ],
            [
             0.1111111111111111,
             "#46039f"
            ],
            [
             0.2222222222222222,
             "#7201a8"
            ],
            [
             0.3333333333333333,
             "#9c179e"
            ],
            [
             0.4444444444444444,
             "#bd3786"
            ],
            [
             0.5555555555555556,
             "#d8576b"
            ],
            [
             0.6666666666666666,
             "#ed7953"
            ],
            [
             0.7777777777777778,
             "#fb9f3a"
            ],
            [
             0.8888888888888888,
             "#fdca26"
            ],
            [
             1,
             "#f0f921"
            ]
           ]
          },
          "colorway": [
           "#636efa",
           "#EF553B",
           "#00cc96",
           "#ab63fa",
           "#FFA15A",
           "#19d3f3",
           "#FF6692",
           "#B6E880",
           "#FF97FF",
           "#FECB52"
          ],
          "font": {
           "color": "#2a3f5f"
          },
          "geo": {
           "bgcolor": "white",
           "lakecolor": "white",
           "landcolor": "#E5ECF6",
           "showlakes": true,
           "showland": true,
           "subunitcolor": "white"
          },
          "hoverlabel": {
           "align": "left"
          },
          "hovermode": "closest",
          "mapbox": {
           "style": "light"
          },
          "paper_bgcolor": "white",
          "plot_bgcolor": "#E5ECF6",
          "polar": {
           "angularaxis": {
            "gridcolor": "white",
            "linecolor": "white",
            "ticks": ""
           },
           "bgcolor": "#E5ECF6",
           "radialaxis": {
            "gridcolor": "white",
            "linecolor": "white",
            "ticks": ""
           }
          },
          "scene": {
           "xaxis": {
            "backgroundcolor": "#E5ECF6",
            "gridcolor": "white",
            "gridwidth": 2,
            "linecolor": "white",
            "showbackground": true,
            "ticks": "",
            "zerolinecolor": "white"
           },
           "yaxis": {
            "backgroundcolor": "#E5ECF6",
            "gridcolor": "white",
            "gridwidth": 2,
            "linecolor": "white",
            "showbackground": true,
            "ticks": "",
            "zerolinecolor": "white"
           },
           "zaxis": {
            "backgroundcolor": "#E5ECF6",
            "gridcolor": "white",
            "gridwidth": 2,
            "linecolor": "white",
            "showbackground": true,
            "ticks": "",
            "zerolinecolor": "white"
           }
          },
          "shapedefaults": {
           "line": {
            "color": "#2a3f5f"
           }
          },
          "ternary": {
           "aaxis": {
            "gridcolor": "white",
            "linecolor": "white",
            "ticks": ""
           },
           "baxis": {
            "gridcolor": "white",
            "linecolor": "white",
            "ticks": ""
           },
           "bgcolor": "#E5ECF6",
           "caxis": {
            "gridcolor": "white",
            "linecolor": "white",
            "ticks": ""
           }
          },
          "title": {
           "x": 0.05
          },
          "xaxis": {
           "automargin": true,
           "gridcolor": "white",
           "linecolor": "white",
           "ticks": "",
           "title": {
            "standoff": 15
           },
           "zerolinecolor": "white",
           "zerolinewidth": 2
          },
          "yaxis": {
           "automargin": true,
           "gridcolor": "white",
           "linecolor": "white",
           "ticks": "",
           "title": {
            "standoff": 15
           },
           "zerolinecolor": "white",
           "zerolinewidth": 2
          }
         }
        },
        "title": {
         "text": "Gráfico de eficiencia para diferentes valores de N con identidad"
        }
       }
      }
     },
     "metadata": {},
     "output_type": "display_data"
    }
   ],
   "source": [
    "graph_linear_regresion(comparacion_prueba2, \"EFICIENCIA\")"
   ]
  },
  {
   "cell_type": "code",
   "execution_count": 75,
   "metadata": {},
   "outputs": [
    {
     "name": "stdout",
     "output_type": "stream",
     "text": [
      "R2:  0.9176514279099574\n",
      "P valor:  3.3446346589037073e-22\n"
     ]
    },
    {
     "data": {
      "application/vnd.plotly.v1+json": {
       "config": {
        "plotlyServerURL": "https://plot.ly"
       },
       "data": [
        {
         "mode": "markers",
         "name": "N=100",
         "type": "scatter",
         "x": [
          0.349663736544893,
          0.30445350433723106,
          0.3307954469323848,
          0.13018189710777206,
          0.1442776854830158,
          0.11112450160734356,
          0.13475839785888166,
          0.125
         ],
         "y": [
          0.03022686369894935,
          0.025069565386169498,
          0.3333333333333333,
          0.01074981425071538,
          0.0267599930311292,
          0.010043786817439228,
          0.01563468037366311,
          0.011039432789432788
         ]
        },
        {
         "mode": "markers",
         "name": "N=200",
         "type": "scatter",
         "x": [
          0.7904380702570075,
          0.43780887449454264,
          0.3333333333333333,
          0.20519386720983113,
          0.16648602907927487,
          0.12853261911471417,
          0.12229302968070496,
          0.1061341139183254
         ],
         "y": [
          1,
          0.4678195290541206,
          0.29739593832370814,
          0.20215403843194424,
          0.15375799219954225,
          0.11559479770765498,
          0.09062750902975879,
          0.08715365944172287
         ]
        },
        {
         "mode": "markers",
         "name": "N=300",
         "type": "scatter",
         "x": [
          0.8737037498546723,
          0.48684896966403984,
          0.3333333333333333,
          0.2380631742332333,
          0.19151471336190173,
          0.14857128835698089,
          0.12357941877513232,
          0.10754377037263103
         ],
         "y": [
          1,
          0.4605262600682151,
          0.28590335985357673,
          0.1936408912171467,
          0.14691054362272732,
          0.1124021163079551,
          0.0896309028746327,
          0.0706635264792845
         ]
        },
        {
         "mode": "markers",
         "name": "N=400",
         "type": "scatter",
         "x": [
          0.818387843125653,
          0.4502596088258322,
          0.30231353549608075,
          0.22628955044783294,
          0.19174661471036164,
          0.16666666666666666,
          0.1393230078596261,
          0.11114780479632873
         ],
         "y": [
          1,
          0.45711393221345126,
          0.27976784587741416,
          0.19105328118422568,
          0.14138075396597405,
          0.10902341916297013,
          0.08701834524243832,
          0.07056989926699132
         ]
        },
        {
         "mode": "markers",
         "name": "N=500",
         "type": "scatter",
         "x": [
          0.8795620800101247,
          0.4732328672962934,
          0.32070438299907705,
          0.2411179181367415,
          0.2,
          0.1612256670816438,
          0.13737478941837514,
          0.1195901001019029
         ],
         "y": [
          1,
          0.4581664343207899,
          0.28028020047979946,
          0.19222738195281852,
          0.14193528187603924,
          0.10906993427969658,
          0.08632625398054158,
          0.07059609789924173
         ]
        },
        {
         "line": {
          "color": "black",
          "dash": "dash"
         },
         "mode": "lines",
         "name": "Identidad",
         "type": "scatter",
         "x": [
          0.18994953569002035,
          0.16788298298633894,
          0.3333333333333333,
          0.0686370792944135,
          0.12275313857746761,
          0.05636870020055795,
          0.07739250352491008,
          0.0498550573133417,
          0.5554045894825559,
          0.3028272254574663,
          0.22415084582863734,
          0.16290819249498711,
          0.1490008750694292,
          0.15308123382503203,
          0.14285714285714285,
          0.11942770460250998,
          0.7173540505156302,
          0.39036594972419925,
          0.26155811121601885,
          0.18108675746134031,
          0.15222495430091293,
          0.13055028322548173,
          0.12082787396566322,
          0.125,
          0.8410651334659778,
          0.45704896148783886,
          0.3333333333333333,
          0.23790892228587554,
          0.18729313836446887,
          0.14722699552095997,
          0.12948013292670654,
          0.10908293021137205,
          0.9004615108873599,
          0.47326171341464623,
          0.3333333333333333,
          0.24110729330713154,
          0.19157920729904193,
          0.16063975117467538,
          0.14051407926776813,
          0.1196482249005303
         ],
         "y": [
          0.1663401415280105,
          0.13638708798771618,
          0.36096875548928287,
          0.0016710810582245411,
          0.07512801123040483,
          -0.014981969410758592,
          0.013555660143398193,
          -0.02382356314599554,
          0.6624074221682136,
          0.3195598823054169,
          0.21276486801278208,
          0.12963432656003976,
          0.11075658752017115,
          0.11629525075911878,
          0.10241710910852317,
          0.07061407997733685,
          0.8822369960162484,
          0.43838460903190146,
          0.2635413457884569,
          0.15430984053971342,
          0.11513294023532236,
          0.08571182530592297,
          0.07251466447112648,
          0.07817789226032695,
          1.0501619429211337,
          0.5288998720367636,
          0.36096875548928287,
          0.2314400279378014,
          0.1627343580427059,
          0.1083487302620473,
          0.08425920741740126,
          0.05657212311343912,
          1.1307863565707281,
          0.5509069989777177,
          0.36096875548928287,
          0.23578148442753324,
          0.16855225148526617,
          0.12655515306009488,
          0.09923664362833301,
          0.07091341337943285
         ]
        }
       ],
       "layout": {
        "template": {
         "data": {
          "bar": [
           {
            "error_x": {
             "color": "#2a3f5f"
            },
            "error_y": {
             "color": "#2a3f5f"
            },
            "marker": {
             "line": {
              "color": "#E5ECF6",
              "width": 0.5
             },
             "pattern": {
              "fillmode": "overlay",
              "size": 10,
              "solidity": 0.2
             }
            },
            "type": "bar"
           }
          ],
          "barpolar": [
           {
            "marker": {
             "line": {
              "color": "#E5ECF6",
              "width": 0.5
             },
             "pattern": {
              "fillmode": "overlay",
              "size": 10,
              "solidity": 0.2
             }
            },
            "type": "barpolar"
           }
          ],
          "carpet": [
           {
            "aaxis": {
             "endlinecolor": "#2a3f5f",
             "gridcolor": "white",
             "linecolor": "white",
             "minorgridcolor": "white",
             "startlinecolor": "#2a3f5f"
            },
            "baxis": {
             "endlinecolor": "#2a3f5f",
             "gridcolor": "white",
             "linecolor": "white",
             "minorgridcolor": "white",
             "startlinecolor": "#2a3f5f"
            },
            "type": "carpet"
           }
          ],
          "choropleth": [
           {
            "colorbar": {
             "outlinewidth": 0,
             "ticks": ""
            },
            "type": "choropleth"
           }
          ],
          "contour": [
           {
            "colorbar": {
             "outlinewidth": 0,
             "ticks": ""
            },
            "colorscale": [
             [
              0,
              "#0d0887"
             ],
             [
              0.1111111111111111,
              "#46039f"
             ],
             [
              0.2222222222222222,
              "#7201a8"
             ],
             [
              0.3333333333333333,
              "#9c179e"
             ],
             [
              0.4444444444444444,
              "#bd3786"
             ],
             [
              0.5555555555555556,
              "#d8576b"
             ],
             [
              0.6666666666666666,
              "#ed7953"
             ],
             [
              0.7777777777777778,
              "#fb9f3a"
             ],
             [
              0.8888888888888888,
              "#fdca26"
             ],
             [
              1,
              "#f0f921"
             ]
            ],
            "type": "contour"
           }
          ],
          "contourcarpet": [
           {
            "colorbar": {
             "outlinewidth": 0,
             "ticks": ""
            },
            "type": "contourcarpet"
           }
          ],
          "heatmap": [
           {
            "colorbar": {
             "outlinewidth": 0,
             "ticks": ""
            },
            "colorscale": [
             [
              0,
              "#0d0887"
             ],
             [
              0.1111111111111111,
              "#46039f"
             ],
             [
              0.2222222222222222,
              "#7201a8"
             ],
             [
              0.3333333333333333,
              "#9c179e"
             ],
             [
              0.4444444444444444,
              "#bd3786"
             ],
             [
              0.5555555555555556,
              "#d8576b"
             ],
             [
              0.6666666666666666,
              "#ed7953"
             ],
             [
              0.7777777777777778,
              "#fb9f3a"
             ],
             [
              0.8888888888888888,
              "#fdca26"
             ],
             [
              1,
              "#f0f921"
             ]
            ],
            "type": "heatmap"
           }
          ],
          "heatmapgl": [
           {
            "colorbar": {
             "outlinewidth": 0,
             "ticks": ""
            },
            "colorscale": [
             [
              0,
              "#0d0887"
             ],
             [
              0.1111111111111111,
              "#46039f"
             ],
             [
              0.2222222222222222,
              "#7201a8"
             ],
             [
              0.3333333333333333,
              "#9c179e"
             ],
             [
              0.4444444444444444,
              "#bd3786"
             ],
             [
              0.5555555555555556,
              "#d8576b"
             ],
             [
              0.6666666666666666,
              "#ed7953"
             ],
             [
              0.7777777777777778,
              "#fb9f3a"
             ],
             [
              0.8888888888888888,
              "#fdca26"
             ],
             [
              1,
              "#f0f921"
             ]
            ],
            "type": "heatmapgl"
           }
          ],
          "histogram": [
           {
            "marker": {
             "pattern": {
              "fillmode": "overlay",
              "size": 10,
              "solidity": 0.2
             }
            },
            "type": "histogram"
           }
          ],
          "histogram2d": [
           {
            "colorbar": {
             "outlinewidth": 0,
             "ticks": ""
            },
            "colorscale": [
             [
              0,
              "#0d0887"
             ],
             [
              0.1111111111111111,
              "#46039f"
             ],
             [
              0.2222222222222222,
              "#7201a8"
             ],
             [
              0.3333333333333333,
              "#9c179e"
             ],
             [
              0.4444444444444444,
              "#bd3786"
             ],
             [
              0.5555555555555556,
              "#d8576b"
             ],
             [
              0.6666666666666666,
              "#ed7953"
             ],
             [
              0.7777777777777778,
              "#fb9f3a"
             ],
             [
              0.8888888888888888,
              "#fdca26"
             ],
             [
              1,
              "#f0f921"
             ]
            ],
            "type": "histogram2d"
           }
          ],
          "histogram2dcontour": [
           {
            "colorbar": {
             "outlinewidth": 0,
             "ticks": ""
            },
            "colorscale": [
             [
              0,
              "#0d0887"
             ],
             [
              0.1111111111111111,
              "#46039f"
             ],
             [
              0.2222222222222222,
              "#7201a8"
             ],
             [
              0.3333333333333333,
              "#9c179e"
             ],
             [
              0.4444444444444444,
              "#bd3786"
             ],
             [
              0.5555555555555556,
              "#d8576b"
             ],
             [
              0.6666666666666666,
              "#ed7953"
             ],
             [
              0.7777777777777778,
              "#fb9f3a"
             ],
             [
              0.8888888888888888,
              "#fdca26"
             ],
             [
              1,
              "#f0f921"
             ]
            ],
            "type": "histogram2dcontour"
           }
          ],
          "mesh3d": [
           {
            "colorbar": {
             "outlinewidth": 0,
             "ticks": ""
            },
            "type": "mesh3d"
           }
          ],
          "parcoords": [
           {
            "line": {
             "colorbar": {
              "outlinewidth": 0,
              "ticks": ""
             }
            },
            "type": "parcoords"
           }
          ],
          "pie": [
           {
            "automargin": true,
            "type": "pie"
           }
          ],
          "scatter": [
           {
            "fillpattern": {
             "fillmode": "overlay",
             "size": 10,
             "solidity": 0.2
            },
            "type": "scatter"
           }
          ],
          "scatter3d": [
           {
            "line": {
             "colorbar": {
              "outlinewidth": 0,
              "ticks": ""
             }
            },
            "marker": {
             "colorbar": {
              "outlinewidth": 0,
              "ticks": ""
             }
            },
            "type": "scatter3d"
           }
          ],
          "scattercarpet": [
           {
            "marker": {
             "colorbar": {
              "outlinewidth": 0,
              "ticks": ""
             }
            },
            "type": "scattercarpet"
           }
          ],
          "scattergeo": [
           {
            "marker": {
             "colorbar": {
              "outlinewidth": 0,
              "ticks": ""
             }
            },
            "type": "scattergeo"
           }
          ],
          "scattergl": [
           {
            "marker": {
             "colorbar": {
              "outlinewidth": 0,
              "ticks": ""
             }
            },
            "type": "scattergl"
           }
          ],
          "scattermapbox": [
           {
            "marker": {
             "colorbar": {
              "outlinewidth": 0,
              "ticks": ""
             }
            },
            "type": "scattermapbox"
           }
          ],
          "scatterpolar": [
           {
            "marker": {
             "colorbar": {
              "outlinewidth": 0,
              "ticks": ""
             }
            },
            "type": "scatterpolar"
           }
          ],
          "scatterpolargl": [
           {
            "marker": {
             "colorbar": {
              "outlinewidth": 0,
              "ticks": ""
             }
            },
            "type": "scatterpolargl"
           }
          ],
          "scatterternary": [
           {
            "marker": {
             "colorbar": {
              "outlinewidth": 0,
              "ticks": ""
             }
            },
            "type": "scatterternary"
           }
          ],
          "surface": [
           {
            "colorbar": {
             "outlinewidth": 0,
             "ticks": ""
            },
            "colorscale": [
             [
              0,
              "#0d0887"
             ],
             [
              0.1111111111111111,
              "#46039f"
             ],
             [
              0.2222222222222222,
              "#7201a8"
             ],
             [
              0.3333333333333333,
              "#9c179e"
             ],
             [
              0.4444444444444444,
              "#bd3786"
             ],
             [
              0.5555555555555556,
              "#d8576b"
             ],
             [
              0.6666666666666666,
              "#ed7953"
             ],
             [
              0.7777777777777778,
              "#fb9f3a"
             ],
             [
              0.8888888888888888,
              "#fdca26"
             ],
             [
              1,
              "#f0f921"
             ]
            ],
            "type": "surface"
           }
          ],
          "table": [
           {
            "cells": {
             "fill": {
              "color": "#EBF0F8"
             },
             "line": {
              "color": "white"
             }
            },
            "header": {
             "fill": {
              "color": "#C8D4E3"
             },
             "line": {
              "color": "white"
             }
            },
            "type": "table"
           }
          ]
         },
         "layout": {
          "annotationdefaults": {
           "arrowcolor": "#2a3f5f",
           "arrowhead": 0,
           "arrowwidth": 1
          },
          "autotypenumbers": "strict",
          "coloraxis": {
           "colorbar": {
            "outlinewidth": 0,
            "ticks": ""
           }
          },
          "colorscale": {
           "diverging": [
            [
             0,
             "#8e0152"
            ],
            [
             0.1,
             "#c51b7d"
            ],
            [
             0.2,
             "#de77ae"
            ],
            [
             0.3,
             "#f1b6da"
            ],
            [
             0.4,
             "#fde0ef"
            ],
            [
             0.5,
             "#f7f7f7"
            ],
            [
             0.6,
             "#e6f5d0"
            ],
            [
             0.7,
             "#b8e186"
            ],
            [
             0.8,
             "#7fbc41"
            ],
            [
             0.9,
             "#4d9221"
            ],
            [
             1,
             "#276419"
            ]
           ],
           "sequential": [
            [
             0,
             "#0d0887"
            ],
            [
             0.1111111111111111,
             "#46039f"
            ],
            [
             0.2222222222222222,
             "#7201a8"
            ],
            [
             0.3333333333333333,
             "#9c179e"
            ],
            [
             0.4444444444444444,
             "#bd3786"
            ],
            [
             0.5555555555555556,
             "#d8576b"
            ],
            [
             0.6666666666666666,
             "#ed7953"
            ],
            [
             0.7777777777777778,
             "#fb9f3a"
            ],
            [
             0.8888888888888888,
             "#fdca26"
            ],
            [
             1,
             "#f0f921"
            ]
           ],
           "sequentialminus": [
            [
             0,
             "#0d0887"
            ],
            [
             0.1111111111111111,
             "#46039f"
            ],
            [
             0.2222222222222222,
             "#7201a8"
            ],
            [
             0.3333333333333333,
             "#9c179e"
            ],
            [
             0.4444444444444444,
             "#bd3786"
            ],
            [
             0.5555555555555556,
             "#d8576b"
            ],
            [
             0.6666666666666666,
             "#ed7953"
            ],
            [
             0.7777777777777778,
             "#fb9f3a"
            ],
            [
             0.8888888888888888,
             "#fdca26"
            ],
            [
             1,
             "#f0f921"
            ]
           ]
          },
          "colorway": [
           "#636efa",
           "#EF553B",
           "#00cc96",
           "#ab63fa",
           "#FFA15A",
           "#19d3f3",
           "#FF6692",
           "#B6E880",
           "#FF97FF",
           "#FECB52"
          ],
          "font": {
           "color": "#2a3f5f"
          },
          "geo": {
           "bgcolor": "white",
           "lakecolor": "white",
           "landcolor": "#E5ECF6",
           "showlakes": true,
           "showland": true,
           "subunitcolor": "white"
          },
          "hoverlabel": {
           "align": "left"
          },
          "hovermode": "closest",
          "mapbox": {
           "style": "light"
          },
          "paper_bgcolor": "white",
          "plot_bgcolor": "#E5ECF6",
          "polar": {
           "angularaxis": {
            "gridcolor": "white",
            "linecolor": "white",
            "ticks": ""
           },
           "bgcolor": "#E5ECF6",
           "radialaxis": {
            "gridcolor": "white",
            "linecolor": "white",
            "ticks": ""
           }
          },
          "scene": {
           "xaxis": {
            "backgroundcolor": "#E5ECF6",
            "gridcolor": "white",
            "gridwidth": 2,
            "linecolor": "white",
            "showbackground": true,
            "ticks": "",
            "zerolinecolor": "white"
           },
           "yaxis": {
            "backgroundcolor": "#E5ECF6",
            "gridcolor": "white",
            "gridwidth": 2,
            "linecolor": "white",
            "showbackground": true,
            "ticks": "",
            "zerolinecolor": "white"
           },
           "zaxis": {
            "backgroundcolor": "#E5ECF6",
            "gridcolor": "white",
            "gridwidth": 2,
            "linecolor": "white",
            "showbackground": true,
            "ticks": "",
            "zerolinecolor": "white"
           }
          },
          "shapedefaults": {
           "line": {
            "color": "#2a3f5f"
           }
          },
          "ternary": {
           "aaxis": {
            "gridcolor": "white",
            "linecolor": "white",
            "ticks": ""
           },
           "baxis": {
            "gridcolor": "white",
            "linecolor": "white",
            "ticks": ""
           },
           "bgcolor": "#E5ECF6",
           "caxis": {
            "gridcolor": "white",
            "linecolor": "white",
            "ticks": ""
           }
          },
          "title": {
           "x": 0.05
          },
          "xaxis": {
           "automargin": true,
           "gridcolor": "white",
           "linecolor": "white",
           "ticks": "",
           "title": {
            "standoff": 15
           },
           "zerolinecolor": "white",
           "zerolinewidth": 2
          },
          "yaxis": {
           "automargin": true,
           "gridcolor": "white",
           "linecolor": "white",
           "ticks": "",
           "title": {
            "standoff": 15
           },
           "zerolinecolor": "white",
           "zerolinewidth": 2
          }
         }
        },
        "title": {
         "text": "Gráfico de eficiencia para diferentes valores de N con identidad"
        }
       }
      }
     },
     "metadata": {},
     "output_type": "display_data"
    }
   ],
   "source": [
    "graph_linear_regresion(comparacion_prueba3, \"EFICIENCIA\")"
   ]
  },
  {
   "cell_type": "code",
   "execution_count": null,
   "metadata": {},
   "outputs": [],
   "source": []
  }
 ],
 "metadata": {
  "kernelspec": {
   "display_name": "Python 3",
   "language": "python",
   "name": "python3"
  },
  "language_info": {
   "codemirror_mode": {
    "name": "ipython",
    "version": 3
   },
   "file_extension": ".py",
   "mimetype": "text/x-python",
   "name": "python",
   "nbconvert_exporter": "python",
   "pygments_lexer": "ipython3",
   "version": "3.11.6"
  }
 },
 "nbformat": 4,
 "nbformat_minor": 2
}
